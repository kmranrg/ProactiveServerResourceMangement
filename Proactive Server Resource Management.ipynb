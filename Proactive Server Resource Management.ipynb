{
 "cells": [
  {
   "cell_type": "markdown",
   "id": "d44bcd6f",
   "metadata": {},
   "source": [
    "# <center>Proactive Server Resource Management</center>"
   ]
  },
  {
   "cell_type": "markdown",
   "id": "14a08e52",
   "metadata": {},
   "source": [
    "<b><p style=\"text-align:right;\">Kumar Anurag</p></b>\n",
    "<p style=\"text-align:right;color:blue\">2021FC04016</p>"
   ]
  },
  {
   "cell_type": "markdown",
   "id": "408a5667",
   "metadata": {},
   "source": [
    "### Importing the Libraries"
   ]
  },
  {
   "cell_type": "code",
   "execution_count": 1,
   "id": "53fc8561",
   "metadata": {},
   "outputs": [],
   "source": [
    "import numpy as np\n",
    "import pandas as pd\n",
    "import matplotlib.pyplot as plt\n",
    "from sklearn.preprocessing import LabelEncoder\n",
    "pd.options.mode.chained_assignment = None  # default='warn'\n",
    "from sklearn.model_selection import train_test_split\n",
    "from sklearn.feature_extraction.text import CountVectorizer\n",
    "from sklearn.naive_bayes import MultinomialNB\n",
    "from sklearn.metrics import accuracy_score\n",
    "from sklearn.svm import SVC\n",
    "from sklearn.tree import DecisionTreeClassifier\n",
    "from sklearn.ensemble import RandomForestClassifier\n",
    "from sklearn.ensemble import GradientBoostingClassifier\n",
    "import time"
   ]
  },
  {
   "cell_type": "markdown",
   "id": "96eed5a7",
   "metadata": {},
   "source": [
    "### Loading the Dataset"
   ]
  },
  {
   "cell_type": "code",
   "execution_count": 2,
   "id": "4a724fea",
   "metadata": {},
   "outputs": [
    {
     "data": {
      "text/html": [
       "<div>\n",
       "<style scoped>\n",
       "    .dataframe tbody tr th:only-of-type {\n",
       "        vertical-align: middle;\n",
       "    }\n",
       "\n",
       "    .dataframe tbody tr th {\n",
       "        vertical-align: top;\n",
       "    }\n",
       "\n",
       "    .dataframe thead th {\n",
       "        text-align: right;\n",
       "    }\n",
       "</style>\n",
       "<table border=\"1\" class=\"dataframe\">\n",
       "  <thead>\n",
       "    <tr style=\"text-align: right;\">\n",
       "      <th></th>\n",
       "      <th>Type</th>\n",
       "      <th>Owned By Team</th>\n",
       "      <th>Customer Name</th>\n",
       "      <th>ID</th>\n",
       "      <th>Priority</th>\n",
       "      <th>Created Date Time</th>\n",
       "      <th>Status</th>\n",
       "      <th>Short Description</th>\n",
       "      <th>Category</th>\n",
       "      <th>Service</th>\n",
       "      <th>Subcategory</th>\n",
       "      <th>SLA Resolve By Deadline</th>\n",
       "      <th>Action Taken</th>\n",
       "    </tr>\n",
       "  </thead>\n",
       "  <tbody>\n",
       "    <tr>\n",
       "      <th>0</th>\n",
       "      <td>Incident</td>\n",
       "      <td>CSM_TEAM_CS_TCS_Windows_VMWare_Team</td>\n",
       "      <td>Solarwinds Customer</td>\n",
       "      <td>2798425</td>\n",
       "      <td>3</td>\n",
       "      <td>6/19/23 2:48</td>\n",
       "      <td>Closed</td>\n",
       "      <td>Host lbjesx02.lbj.is.smartgurucool.com  is Down</td>\n",
       "      <td>smartgurucool - Windows</td>\n",
       "      <td>Cloud and Server Computing</td>\n",
       "      <td>OS, HW, Performance Issue</td>\n",
       "      <td>6/21/23 2:50</td>\n",
       "      <td>Check if there's any planned outage going on, ...</td>\n",
       "    </tr>\n",
       "    <tr>\n",
       "      <th>1</th>\n",
       "      <td>Incident</td>\n",
       "      <td>CSM_TEAM_CS_TCS_Windows_VMWare_Team</td>\n",
       "      <td>Solarwinds Customer</td>\n",
       "      <td>2798418</td>\n",
       "      <td>3</td>\n",
       "      <td>6/19/23 2:45</td>\n",
       "      <td>Closed</td>\n",
       "      <td>Host lbjavscan1.lbj.is.smartgurucool.com  is Down</td>\n",
       "      <td>smartgurucool - Windows</td>\n",
       "      <td>Cloud and Server Computing</td>\n",
       "      <td>OS, HW, Performance Issue</td>\n",
       "      <td>6/21/23 2:47</td>\n",
       "      <td>Check if there's any planned outage going on, ...</td>\n",
       "    </tr>\n",
       "    <tr>\n",
       "      <th>2</th>\n",
       "      <td>Incident</td>\n",
       "      <td>CSM_TEAM_CS_TCS_Windows_VMWare_Team</td>\n",
       "      <td>Solarwinds Customer</td>\n",
       "      <td>2798416</td>\n",
       "      <td>3</td>\n",
       "      <td>6/19/23 2:45</td>\n",
       "      <td>Closed</td>\n",
       "      <td>Host uscal-pixoslic1.lbj.is.smartgurucool.com ...</td>\n",
       "      <td>smartgurucool - Windows</td>\n",
       "      <td>Cloud and Server Computing</td>\n",
       "      <td>OS, HW, Performance Issue</td>\n",
       "      <td>6/21/23 2:47</td>\n",
       "      <td>Check if there's any planned outage going on, ...</td>\n",
       "    </tr>\n",
       "    <tr>\n",
       "      <th>3</th>\n",
       "      <td>Incident</td>\n",
       "      <td>CSM_TEAM_CS_TCS_Windows_VMWare_Team</td>\n",
       "      <td>Solarwinds Customer</td>\n",
       "      <td>2798415</td>\n",
       "      <td>3</td>\n",
       "      <td>6/19/23 2:44</td>\n",
       "      <td>Closed</td>\n",
       "      <td>Host lbjvprox1.lbj.is.smartgurucool.com  is Down</td>\n",
       "      <td>smartgurucool - Windows</td>\n",
       "      <td>Cloud and Server Computing</td>\n",
       "      <td>OS, HW, Performance Issue</td>\n",
       "      <td>6/21/23 2:46</td>\n",
       "      <td>Check if there's any planned outage going on, ...</td>\n",
       "    </tr>\n",
       "    <tr>\n",
       "      <th>4</th>\n",
       "      <td>Incident</td>\n",
       "      <td>CSM_TEAM_CS_TCS_Windows_VMWare_Team</td>\n",
       "      <td>Solarwinds Customer</td>\n",
       "      <td>2798413</td>\n",
       "      <td>3</td>\n",
       "      <td>6/19/23 2:43</td>\n",
       "      <td>Closed</td>\n",
       "      <td>Host us-lbj-dc02.ad.smartgurucool.com  is Down</td>\n",
       "      <td>smartgurucool - Windows</td>\n",
       "      <td>Cloud and Server Computing</td>\n",
       "      <td>OS, HW, Performance Issue</td>\n",
       "      <td>6/21/23 2:45</td>\n",
       "      <td>Check if there's any planned outage going on, ...</td>\n",
       "    </tr>\n",
       "  </tbody>\n",
       "</table>\n",
       "</div>"
      ],
      "text/plain": [
       "       Type                        Owned By Team        Customer Name  \\\n",
       "0  Incident  CSM_TEAM_CS_TCS_Windows_VMWare_Team  Solarwinds Customer   \n",
       "1  Incident  CSM_TEAM_CS_TCS_Windows_VMWare_Team  Solarwinds Customer   \n",
       "2  Incident  CSM_TEAM_CS_TCS_Windows_VMWare_Team  Solarwinds Customer   \n",
       "3  Incident  CSM_TEAM_CS_TCS_Windows_VMWare_Team  Solarwinds Customer   \n",
       "4  Incident  CSM_TEAM_CS_TCS_Windows_VMWare_Team  Solarwinds Customer   \n",
       "\n",
       "        ID  Priority Created Date Time  Status  \\\n",
       "0  2798425         3      6/19/23 2:48  Closed   \n",
       "1  2798418         3      6/19/23 2:45  Closed   \n",
       "2  2798416         3      6/19/23 2:45  Closed   \n",
       "3  2798415         3      6/19/23 2:44  Closed   \n",
       "4  2798413         3      6/19/23 2:43  Closed   \n",
       "\n",
       "                                   Short Description                 Category  \\\n",
       "0    Host lbjesx02.lbj.is.smartgurucool.com  is Down  smartgurucool - Windows   \n",
       "1  Host lbjavscan1.lbj.is.smartgurucool.com  is Down  smartgurucool - Windows   \n",
       "2  Host uscal-pixoslic1.lbj.is.smartgurucool.com ...  smartgurucool - Windows   \n",
       "3   Host lbjvprox1.lbj.is.smartgurucool.com  is Down  smartgurucool - Windows   \n",
       "4     Host us-lbj-dc02.ad.smartgurucool.com  is Down  smartgurucool - Windows   \n",
       "\n",
       "                      Service                Subcategory  \\\n",
       "0  Cloud and Server Computing  OS, HW, Performance Issue   \n",
       "1  Cloud and Server Computing  OS, HW, Performance Issue   \n",
       "2  Cloud and Server Computing  OS, HW, Performance Issue   \n",
       "3  Cloud and Server Computing  OS, HW, Performance Issue   \n",
       "4  Cloud and Server Computing  OS, HW, Performance Issue   \n",
       "\n",
       "  SLA Resolve By Deadline                                       Action Taken  \n",
       "0            6/21/23 2:50  Check if there's any planned outage going on, ...  \n",
       "1            6/21/23 2:47  Check if there's any planned outage going on, ...  \n",
       "2            6/21/23 2:47  Check if there's any planned outage going on, ...  \n",
       "3            6/21/23 2:46  Check if there's any planned outage going on, ...  \n",
       "4            6/21/23 2:45  Check if there's any planned outage going on, ...  "
      ]
     },
     "execution_count": 2,
     "metadata": {},
     "output_type": "execute_result"
    }
   ],
   "source": [
    "dataset = pd.read_csv('dataset_large.csv')\n",
    "dataset.head()"
   ]
  },
  {
   "cell_type": "code",
   "execution_count": 3,
   "id": "3cb822b6",
   "metadata": {},
   "outputs": [
    {
     "data": {
      "text/plain": [
       "(200000, 13)"
      ]
     },
     "execution_count": 3,
     "metadata": {},
     "output_type": "execute_result"
    }
   ],
   "source": [
    "dataset.shape"
   ]
  },
  {
   "cell_type": "code",
   "execution_count": 4,
   "id": "60c8b97b",
   "metadata": {},
   "outputs": [
    {
     "data": {
      "text/html": [
       "<div>\n",
       "<style scoped>\n",
       "    .dataframe tbody tr th:only-of-type {\n",
       "        vertical-align: middle;\n",
       "    }\n",
       "\n",
       "    .dataframe tbody tr th {\n",
       "        vertical-align: top;\n",
       "    }\n",
       "\n",
       "    .dataframe thead th {\n",
       "        text-align: right;\n",
       "    }\n",
       "</style>\n",
       "<table border=\"1\" class=\"dataframe\">\n",
       "  <thead>\n",
       "    <tr style=\"text-align: right;\">\n",
       "      <th></th>\n",
       "      <th>Type</th>\n",
       "      <th>Owned By Team</th>\n",
       "      <th>Customer Name</th>\n",
       "      <th>ID</th>\n",
       "      <th>Priority</th>\n",
       "      <th>Created Date Time</th>\n",
       "      <th>Status</th>\n",
       "      <th>Short Description</th>\n",
       "      <th>Category</th>\n",
       "      <th>Service</th>\n",
       "      <th>Subcategory</th>\n",
       "      <th>SLA Resolve By Deadline</th>\n",
       "      <th>Action Taken</th>\n",
       "    </tr>\n",
       "  </thead>\n",
       "  <tbody>\n",
       "    <tr>\n",
       "      <th>199995</th>\n",
       "      <td>Incident</td>\n",
       "      <td>CSM_TEAM_CS_TCS_UX_Team</td>\n",
       "      <td>Solarwinds Customer</td>\n",
       "      <td>2661692</td>\n",
       "      <td>4</td>\n",
       "      <td>3/6/23 4:28</td>\n",
       "      <td>Closed</td>\n",
       "      <td>Host llbjartdist01.lbj.is.smartgurucool.com  i...</td>\n",
       "      <td>smartgurucool - Unix and Linux</td>\n",
       "      <td>Cloud and Server Computing</td>\n",
       "      <td>OS, HW, Performance Issue</td>\n",
       "      <td>3/9/23 4:31</td>\n",
       "      <td>Check if there's any planned outage going on, ...</td>\n",
       "    </tr>\n",
       "    <tr>\n",
       "      <th>199996</th>\n",
       "      <td>Incident</td>\n",
       "      <td>CSM_TEAM_CS_TCS_UX_Team</td>\n",
       "      <td>Solarwinds Customer</td>\n",
       "      <td>2661690</td>\n",
       "      <td>4</td>\n",
       "      <td>3/6/23 4:27</td>\n",
       "      <td>Closed</td>\n",
       "      <td>Host hacsvn02.hch.is.smartgurucool.com  is Down</td>\n",
       "      <td>smartgurucool - Unix and Linux</td>\n",
       "      <td>Cloud and Server Computing</td>\n",
       "      <td>OS, HW, Performance Issue</td>\n",
       "      <td>3/9/23 4:30</td>\n",
       "      <td>Check if there's any planned outage going on, ...</td>\n",
       "    </tr>\n",
       "    <tr>\n",
       "      <th>199997</th>\n",
       "      <td>Incident</td>\n",
       "      <td>CSM_TEAM_CS_TCS_Windows_VMWare_Team</td>\n",
       "      <td>Solarwinds Customer</td>\n",
       "      <td>2661675</td>\n",
       "      <td>3</td>\n",
       "      <td>3/6/23 4:09</td>\n",
       "      <td>Closed</td>\n",
       "      <td>On ksmdev1.cos.is.smartgurucool.com , CPU Util...</td>\n",
       "      <td>smartgurucool - Windows</td>\n",
       "      <td>Cloud and Server Computing</td>\n",
       "      <td>OS, HW, Performance Issue</td>\n",
       "      <td>3/8/23 4:11</td>\n",
       "      <td>Add 4 additional CPU cores to the server.</td>\n",
       "    </tr>\n",
       "    <tr>\n",
       "      <th>199998</th>\n",
       "      <td>Incident</td>\n",
       "      <td>CSM_TEAM_CS_TCS_Windows_VMWare_Team</td>\n",
       "      <td>Solarwinds Customer</td>\n",
       "      <td>2661674</td>\n",
       "      <td>3</td>\n",
       "      <td>3/6/23 4:08</td>\n",
       "      <td>Closed</td>\n",
       "      <td>On ksmwebrn2.bbn.is.smartgurucool.com , CPU Ut...</td>\n",
       "      <td>smartgurucool - Windows</td>\n",
       "      <td>Cloud and Server Computing</td>\n",
       "      <td>OS, HW, Performance Issue</td>\n",
       "      <td>3/8/23 4:10</td>\n",
       "      <td>Raise a Change Request (in case of CR required...</td>\n",
       "    </tr>\n",
       "    <tr>\n",
       "      <th>199999</th>\n",
       "      <td>Incident</td>\n",
       "      <td>CSM_TEAM_CS_TCS_Windows_VMWare_Team</td>\n",
       "      <td>Solarwinds Customer</td>\n",
       "      <td>2661672</td>\n",
       "      <td>3</td>\n",
       "      <td>3/6/23 4:07</td>\n",
       "      <td>Closed</td>\n",
       "      <td>On my-png-dc02.ad.smartgurucool.com , CPU Util...</td>\n",
       "      <td>smartgurucool - Windows</td>\n",
       "      <td>Cloud and Server Computing</td>\n",
       "      <td>OS, HW, Performance Issue</td>\n",
       "      <td>3/8/23 4:09</td>\n",
       "      <td>Raise a Change Request (in case of CR required...</td>\n",
       "    </tr>\n",
       "  </tbody>\n",
       "</table>\n",
       "</div>"
      ],
      "text/plain": [
       "            Type                        Owned By Team        Customer Name  \\\n",
       "199995  Incident              CSM_TEAM_CS_TCS_UX_Team  Solarwinds Customer   \n",
       "199996  Incident              CSM_TEAM_CS_TCS_UX_Team  Solarwinds Customer   \n",
       "199997  Incident  CSM_TEAM_CS_TCS_Windows_VMWare_Team  Solarwinds Customer   \n",
       "199998  Incident  CSM_TEAM_CS_TCS_Windows_VMWare_Team  Solarwinds Customer   \n",
       "199999  Incident  CSM_TEAM_CS_TCS_Windows_VMWare_Team  Solarwinds Customer   \n",
       "\n",
       "             ID  Priority Created Date Time  Status  \\\n",
       "199995  2661692         4       3/6/23 4:28  Closed   \n",
       "199996  2661690         4       3/6/23 4:27  Closed   \n",
       "199997  2661675         3       3/6/23 4:09  Closed   \n",
       "199998  2661674         3       3/6/23 4:08  Closed   \n",
       "199999  2661672         3       3/6/23 4:07  Closed   \n",
       "\n",
       "                                        Short Description  \\\n",
       "199995  Host llbjartdist01.lbj.is.smartgurucool.com  i...   \n",
       "199996    Host hacsvn02.hch.is.smartgurucool.com  is Down   \n",
       "199997  On ksmdev1.cos.is.smartgurucool.com , CPU Util...   \n",
       "199998  On ksmwebrn2.bbn.is.smartgurucool.com , CPU Ut...   \n",
       "199999  On my-png-dc02.ad.smartgurucool.com , CPU Util...   \n",
       "\n",
       "                              Category                     Service  \\\n",
       "199995  smartgurucool - Unix and Linux  Cloud and Server Computing   \n",
       "199996  smartgurucool - Unix and Linux  Cloud and Server Computing   \n",
       "199997         smartgurucool - Windows  Cloud and Server Computing   \n",
       "199998         smartgurucool - Windows  Cloud and Server Computing   \n",
       "199999         smartgurucool - Windows  Cloud and Server Computing   \n",
       "\n",
       "                      Subcategory SLA Resolve By Deadline  \\\n",
       "199995  OS, HW, Performance Issue             3/9/23 4:31   \n",
       "199996  OS, HW, Performance Issue             3/9/23 4:30   \n",
       "199997  OS, HW, Performance Issue             3/8/23 4:11   \n",
       "199998  OS, HW, Performance Issue             3/8/23 4:10   \n",
       "199999  OS, HW, Performance Issue             3/8/23 4:09   \n",
       "\n",
       "                                             Action Taken  \n",
       "199995  Check if there's any planned outage going on, ...  \n",
       "199996  Check if there's any planned outage going on, ...  \n",
       "199997          Add 4 additional CPU cores to the server.  \n",
       "199998  Raise a Change Request (in case of CR required...  \n",
       "199999  Raise a Change Request (in case of CR required...  "
      ]
     },
     "execution_count": 4,
     "metadata": {},
     "output_type": "execute_result"
    }
   ],
   "source": [
    "dataset.tail()"
   ]
  },
  {
   "cell_type": "markdown",
   "id": "c828bcc1",
   "metadata": {},
   "source": [
    "### Data Cleaning"
   ]
  },
  {
   "cell_type": "markdown",
   "id": "c5b91a75",
   "metadata": {},
   "source": [
    "As we can see, there are lot of columns which are not required. So, we will select only those columns which are necessary for our project."
   ]
  },
  {
   "cell_type": "code",
   "execution_count": 5,
   "id": "a5a043bf",
   "metadata": {},
   "outputs": [
    {
     "data": {
      "text/html": [
       "<div>\n",
       "<style scoped>\n",
       "    .dataframe tbody tr th:only-of-type {\n",
       "        vertical-align: middle;\n",
       "    }\n",
       "\n",
       "    .dataframe tbody tr th {\n",
       "        vertical-align: top;\n",
       "    }\n",
       "\n",
       "    .dataframe thead th {\n",
       "        text-align: right;\n",
       "    }\n",
       "</style>\n",
       "<table border=\"1\" class=\"dataframe\">\n",
       "  <thead>\n",
       "    <tr style=\"text-align: right;\">\n",
       "      <th></th>\n",
       "      <th>Short Description</th>\n",
       "      <th>Action Taken</th>\n",
       "    </tr>\n",
       "  </thead>\n",
       "  <tbody>\n",
       "    <tr>\n",
       "      <th>0</th>\n",
       "      <td>Host lbjesx02.lbj.is.smartgurucool.com  is Down</td>\n",
       "      <td>Check if there's any planned outage going on, ...</td>\n",
       "    </tr>\n",
       "    <tr>\n",
       "      <th>1</th>\n",
       "      <td>Host lbjavscan1.lbj.is.smartgurucool.com  is Down</td>\n",
       "      <td>Check if there's any planned outage going on, ...</td>\n",
       "    </tr>\n",
       "    <tr>\n",
       "      <th>2</th>\n",
       "      <td>Host uscal-pixoslic1.lbj.is.smartgurucool.com ...</td>\n",
       "      <td>Check if there's any planned outage going on, ...</td>\n",
       "    </tr>\n",
       "    <tr>\n",
       "      <th>3</th>\n",
       "      <td>Host lbjvprox1.lbj.is.smartgurucool.com  is Down</td>\n",
       "      <td>Check if there's any planned outage going on, ...</td>\n",
       "    </tr>\n",
       "    <tr>\n",
       "      <th>4</th>\n",
       "      <td>Host us-lbj-dc02.ad.smartgurucool.com  is Down</td>\n",
       "      <td>Check if there's any planned outage going on, ...</td>\n",
       "    </tr>\n",
       "    <tr>\n",
       "      <th>5</th>\n",
       "      <td>Host us-lbj-dc01.ad.smartgurucool.com  is Down</td>\n",
       "      <td>Check if there's any planned outage going on, ...</td>\n",
       "    </tr>\n",
       "    <tr>\n",
       "      <th>6</th>\n",
       "      <td>Host setoolslbj.lbj.is.smartgurucool.com  is Down</td>\n",
       "      <td>Check if there's any planned outage going on, ...</td>\n",
       "    </tr>\n",
       "    <tr>\n",
       "      <th>7</th>\n",
       "      <td>Host pixoslic1.lbj.is.smartgurucool.com  is Down</td>\n",
       "      <td>Check if there's any planned outage going on, ...</td>\n",
       "    </tr>\n",
       "    <tr>\n",
       "      <th>8</th>\n",
       "      <td>Host pixoslic1.lbj.is.smartgurucool.com  is Down</td>\n",
       "      <td>Check if there's any planned outage going on, ...</td>\n",
       "    </tr>\n",
       "    <tr>\n",
       "      <th>9</th>\n",
       "      <td>Host wlbjcmdp01.lbj.is.smartgurucool.com  is Down</td>\n",
       "      <td>Check if there's any planned outage going on, ...</td>\n",
       "    </tr>\n",
       "    <tr>\n",
       "      <th>10</th>\n",
       "      <td>On wcoscmp1.cos.is.smartgurucool.com , CPU Uti...</td>\n",
       "      <td>Raise a Change Request (in case of CR required...</td>\n",
       "    </tr>\n",
       "    <tr>\n",
       "      <th>11</th>\n",
       "      <td>On wcoscmp1.cos.is.smartgurucool.com , CPU Uti...</td>\n",
       "      <td>Raise a Change Request (in case of CR required...</td>\n",
       "    </tr>\n",
       "    <tr>\n",
       "      <th>12</th>\n",
       "      <td>For node wpngscfs02.png.is.smartgurucool.com, ...</td>\n",
       "      <td>This alert got triggered mistakenly. No memory...</td>\n",
       "    </tr>\n",
       "    <tr>\n",
       "      <th>13</th>\n",
       "      <td>For node wpngscfs02.png.is.smartgurucool.com, ...</td>\n",
       "      <td>This alert got triggered mistakenly. No memory...</td>\n",
       "    </tr>\n",
       "    <tr>\n",
       "      <th>14</th>\n",
       "      <td>On wcoscmp1.cos.is.smartgurucool.com , CPU Uti...</td>\n",
       "      <td>Add 4 additional CPU cores to the server.</td>\n",
       "    </tr>\n",
       "    <tr>\n",
       "      <th>15</th>\n",
       "      <td>wcoscmd1.cos.is.smartgurucool.com E:\\ Label:Da...</td>\n",
       "      <td>Inform the user to do the necessary housekeepi...</td>\n",
       "    </tr>\n",
       "    <tr>\n",
       "      <th>16</th>\n",
       "      <td>For node csbldvm3u.srs.is.smartgurucool.com, M...</td>\n",
       "      <td>This alert got triggered mistakenly. No memory...</td>\n",
       "    </tr>\n",
       "    <tr>\n",
       "      <th>17</th>\n",
       "      <td>For node wcossap2.cos.is.smartgurucool.com, Me...</td>\n",
       "      <td>This alert got triggered mistakenly. No memory...</td>\n",
       "    </tr>\n",
       "    <tr>\n",
       "      <th>18</th>\n",
       "      <td>atspmigrate03.cos.is.smartgurucool.com E:\\ Lab...</td>\n",
       "      <td>Inform the user to do the necessary housekeepi...</td>\n",
       "    </tr>\n",
       "    <tr>\n",
       "      <th>19</th>\n",
       "      <td>On wsrspmc1.srs.is.smartgurucool.com , CPU Uti...</td>\n",
       "      <td>Raise a Change Request (in case of CR required...</td>\n",
       "    </tr>\n",
       "  </tbody>\n",
       "</table>\n",
       "</div>"
      ],
      "text/plain": [
       "                                    Short Description  \\\n",
       "0     Host lbjesx02.lbj.is.smartgurucool.com  is Down   \n",
       "1   Host lbjavscan1.lbj.is.smartgurucool.com  is Down   \n",
       "2   Host uscal-pixoslic1.lbj.is.smartgurucool.com ...   \n",
       "3    Host lbjvprox1.lbj.is.smartgurucool.com  is Down   \n",
       "4      Host us-lbj-dc02.ad.smartgurucool.com  is Down   \n",
       "5      Host us-lbj-dc01.ad.smartgurucool.com  is Down   \n",
       "6   Host setoolslbj.lbj.is.smartgurucool.com  is Down   \n",
       "7    Host pixoslic1.lbj.is.smartgurucool.com  is Down   \n",
       "8    Host pixoslic1.lbj.is.smartgurucool.com  is Down   \n",
       "9   Host wlbjcmdp01.lbj.is.smartgurucool.com  is Down   \n",
       "10  On wcoscmp1.cos.is.smartgurucool.com , CPU Uti...   \n",
       "11  On wcoscmp1.cos.is.smartgurucool.com , CPU Uti...   \n",
       "12  For node wpngscfs02.png.is.smartgurucool.com, ...   \n",
       "13  For node wpngscfs02.png.is.smartgurucool.com, ...   \n",
       "14  On wcoscmp1.cos.is.smartgurucool.com , CPU Uti...   \n",
       "15  wcoscmd1.cos.is.smartgurucool.com E:\\ Label:Da...   \n",
       "16  For node csbldvm3u.srs.is.smartgurucool.com, M...   \n",
       "17  For node wcossap2.cos.is.smartgurucool.com, Me...   \n",
       "18  atspmigrate03.cos.is.smartgurucool.com E:\\ Lab...   \n",
       "19  On wsrspmc1.srs.is.smartgurucool.com , CPU Uti...   \n",
       "\n",
       "                                         Action Taken  \n",
       "0   Check if there's any planned outage going on, ...  \n",
       "1   Check if there's any planned outage going on, ...  \n",
       "2   Check if there's any planned outage going on, ...  \n",
       "3   Check if there's any planned outage going on, ...  \n",
       "4   Check if there's any planned outage going on, ...  \n",
       "5   Check if there's any planned outage going on, ...  \n",
       "6   Check if there's any planned outage going on, ...  \n",
       "7   Check if there's any planned outage going on, ...  \n",
       "8   Check if there's any planned outage going on, ...  \n",
       "9   Check if there's any planned outage going on, ...  \n",
       "10  Raise a Change Request (in case of CR required...  \n",
       "11  Raise a Change Request (in case of CR required...  \n",
       "12  This alert got triggered mistakenly. No memory...  \n",
       "13  This alert got triggered mistakenly. No memory...  \n",
       "14          Add 4 additional CPU cores to the server.  \n",
       "15  Inform the user to do the necessary housekeepi...  \n",
       "16  This alert got triggered mistakenly. No memory...  \n",
       "17  This alert got triggered mistakenly. No memory...  \n",
       "18  Inform the user to do the necessary housekeepi...  \n",
       "19  Raise a Change Request (in case of CR required...  "
      ]
     },
     "execution_count": 5,
     "metadata": {},
     "output_type": "execute_result"
    }
   ],
   "source": [
    "data = dataset[['Short Description','Action Taken']]\n",
    "data.head(20)"
   ]
  },
  {
   "cell_type": "code",
   "execution_count": 6,
   "id": "5cb1f193",
   "metadata": {},
   "outputs": [
    {
     "data": {
      "text/html": [
       "<div>\n",
       "<style scoped>\n",
       "    .dataframe tbody tr th:only-of-type {\n",
       "        vertical-align: middle;\n",
       "    }\n",
       "\n",
       "    .dataframe tbody tr th {\n",
       "        vertical-align: top;\n",
       "    }\n",
       "\n",
       "    .dataframe thead th {\n",
       "        text-align: right;\n",
       "    }\n",
       "</style>\n",
       "<table border=\"1\" class=\"dataframe\">\n",
       "  <thead>\n",
       "    <tr style=\"text-align: right;\">\n",
       "      <th></th>\n",
       "      <th>Short Description</th>\n",
       "      <th>Action Taken</th>\n",
       "    </tr>\n",
       "  </thead>\n",
       "  <tbody>\n",
       "    <tr>\n",
       "      <th>199995</th>\n",
       "      <td>Host llbjartdist01.lbj.is.smartgurucool.com  i...</td>\n",
       "      <td>Check if there's any planned outage going on, ...</td>\n",
       "    </tr>\n",
       "    <tr>\n",
       "      <th>199996</th>\n",
       "      <td>Host hacsvn02.hch.is.smartgurucool.com  is Down</td>\n",
       "      <td>Check if there's any planned outage going on, ...</td>\n",
       "    </tr>\n",
       "    <tr>\n",
       "      <th>199997</th>\n",
       "      <td>On ksmdev1.cos.is.smartgurucool.com , CPU Util...</td>\n",
       "      <td>Add 4 additional CPU cores to the server.</td>\n",
       "    </tr>\n",
       "    <tr>\n",
       "      <th>199998</th>\n",
       "      <td>On ksmwebrn2.bbn.is.smartgurucool.com , CPU Ut...</td>\n",
       "      <td>Raise a Change Request (in case of CR required...</td>\n",
       "    </tr>\n",
       "    <tr>\n",
       "      <th>199999</th>\n",
       "      <td>On my-png-dc02.ad.smartgurucool.com , CPU Util...</td>\n",
       "      <td>Raise a Change Request (in case of CR required...</td>\n",
       "    </tr>\n",
       "  </tbody>\n",
       "</table>\n",
       "</div>"
      ],
      "text/plain": [
       "                                        Short Description  \\\n",
       "199995  Host llbjartdist01.lbj.is.smartgurucool.com  i...   \n",
       "199996    Host hacsvn02.hch.is.smartgurucool.com  is Down   \n",
       "199997  On ksmdev1.cos.is.smartgurucool.com , CPU Util...   \n",
       "199998  On ksmwebrn2.bbn.is.smartgurucool.com , CPU Ut...   \n",
       "199999  On my-png-dc02.ad.smartgurucool.com , CPU Util...   \n",
       "\n",
       "                                             Action Taken  \n",
       "199995  Check if there's any planned outage going on, ...  \n",
       "199996  Check if there's any planned outage going on, ...  \n",
       "199997          Add 4 additional CPU cores to the server.  \n",
       "199998  Raise a Change Request (in case of CR required...  \n",
       "199999  Raise a Change Request (in case of CR required...  "
      ]
     },
     "execution_count": 6,
     "metadata": {},
     "output_type": "execute_result"
    }
   ],
   "source": [
    "data.tail()"
   ]
  },
  {
   "cell_type": "markdown",
   "id": "3f1bba34",
   "metadata": {},
   "source": [
    "### Label Encoding"
   ]
  },
  {
   "cell_type": "code",
   "execution_count": 7,
   "id": "378983a0",
   "metadata": {},
   "outputs": [
    {
     "data": {
      "text/html": [
       "<div>\n",
       "<style scoped>\n",
       "    .dataframe tbody tr th:only-of-type {\n",
       "        vertical-align: middle;\n",
       "    }\n",
       "\n",
       "    .dataframe tbody tr th {\n",
       "        vertical-align: top;\n",
       "    }\n",
       "\n",
       "    .dataframe thead th {\n",
       "        text-align: right;\n",
       "    }\n",
       "</style>\n",
       "<table border=\"1\" class=\"dataframe\">\n",
       "  <thead>\n",
       "    <tr style=\"text-align: right;\">\n",
       "      <th></th>\n",
       "      <th>Short Description</th>\n",
       "      <th>Action Taken</th>\n",
       "      <th>Action Taken Encoded</th>\n",
       "    </tr>\n",
       "  </thead>\n",
       "  <tbody>\n",
       "    <tr>\n",
       "      <th>0</th>\n",
       "      <td>Host lbjesx02.lbj.is.smartgurucool.com  is Down</td>\n",
       "      <td>Check if there's any planned outage going on, ...</td>\n",
       "      <td>4</td>\n",
       "    </tr>\n",
       "    <tr>\n",
       "      <th>1</th>\n",
       "      <td>Host lbjavscan1.lbj.is.smartgurucool.com  is Down</td>\n",
       "      <td>Check if there's any planned outage going on, ...</td>\n",
       "      <td>4</td>\n",
       "    </tr>\n",
       "    <tr>\n",
       "      <th>2</th>\n",
       "      <td>Host uscal-pixoslic1.lbj.is.smartgurucool.com ...</td>\n",
       "      <td>Check if there's any planned outage going on, ...</td>\n",
       "      <td>4</td>\n",
       "    </tr>\n",
       "    <tr>\n",
       "      <th>3</th>\n",
       "      <td>Host lbjvprox1.lbj.is.smartgurucool.com  is Down</td>\n",
       "      <td>Check if there's any planned outage going on, ...</td>\n",
       "      <td>4</td>\n",
       "    </tr>\n",
       "    <tr>\n",
       "      <th>4</th>\n",
       "      <td>Host us-lbj-dc02.ad.smartgurucool.com  is Down</td>\n",
       "      <td>Check if there's any planned outage going on, ...</td>\n",
       "      <td>4</td>\n",
       "    </tr>\n",
       "    <tr>\n",
       "      <th>5</th>\n",
       "      <td>Host us-lbj-dc01.ad.smartgurucool.com  is Down</td>\n",
       "      <td>Check if there's any planned outage going on, ...</td>\n",
       "      <td>4</td>\n",
       "    </tr>\n",
       "    <tr>\n",
       "      <th>6</th>\n",
       "      <td>Host setoolslbj.lbj.is.smartgurucool.com  is Down</td>\n",
       "      <td>Check if there's any planned outage going on, ...</td>\n",
       "      <td>4</td>\n",
       "    </tr>\n",
       "    <tr>\n",
       "      <th>7</th>\n",
       "      <td>Host pixoslic1.lbj.is.smartgurucool.com  is Down</td>\n",
       "      <td>Check if there's any planned outage going on, ...</td>\n",
       "      <td>4</td>\n",
       "    </tr>\n",
       "    <tr>\n",
       "      <th>8</th>\n",
       "      <td>Host pixoslic1.lbj.is.smartgurucool.com  is Down</td>\n",
       "      <td>Check if there's any planned outage going on, ...</td>\n",
       "      <td>4</td>\n",
       "    </tr>\n",
       "    <tr>\n",
       "      <th>9</th>\n",
       "      <td>Host wlbjcmdp01.lbj.is.smartgurucool.com  is Down</td>\n",
       "      <td>Check if there's any planned outage going on, ...</td>\n",
       "      <td>4</td>\n",
       "    </tr>\n",
       "    <tr>\n",
       "      <th>10</th>\n",
       "      <td>On wcoscmp1.cos.is.smartgurucool.com , CPU Uti...</td>\n",
       "      <td>Raise a Change Request (in case of CR required...</td>\n",
       "      <td>14</td>\n",
       "    </tr>\n",
       "    <tr>\n",
       "      <th>11</th>\n",
       "      <td>On wcoscmp1.cos.is.smartgurucool.com , CPU Uti...</td>\n",
       "      <td>Raise a Change Request (in case of CR required...</td>\n",
       "      <td>14</td>\n",
       "    </tr>\n",
       "    <tr>\n",
       "      <th>12</th>\n",
       "      <td>For node wpngscfs02.png.is.smartgurucool.com, ...</td>\n",
       "      <td>This alert got triggered mistakenly. No memory...</td>\n",
       "      <td>15</td>\n",
       "    </tr>\n",
       "    <tr>\n",
       "      <th>13</th>\n",
       "      <td>For node wpngscfs02.png.is.smartgurucool.com, ...</td>\n",
       "      <td>This alert got triggered mistakenly. No memory...</td>\n",
       "      <td>15</td>\n",
       "    </tr>\n",
       "    <tr>\n",
       "      <th>14</th>\n",
       "      <td>On wcoscmp1.cos.is.smartgurucool.com , CPU Uti...</td>\n",
       "      <td>Add 4 additional CPU cores to the server.</td>\n",
       "      <td>1</td>\n",
       "    </tr>\n",
       "    <tr>\n",
       "      <th>15</th>\n",
       "      <td>wcoscmd1.cos.is.smartgurucool.com E:\\ Label:Da...</td>\n",
       "      <td>Inform the user to do the necessary housekeepi...</td>\n",
       "      <td>7</td>\n",
       "    </tr>\n",
       "    <tr>\n",
       "      <th>16</th>\n",
       "      <td>For node csbldvm3u.srs.is.smartgurucool.com, M...</td>\n",
       "      <td>This alert got triggered mistakenly. No memory...</td>\n",
       "      <td>15</td>\n",
       "    </tr>\n",
       "    <tr>\n",
       "      <th>17</th>\n",
       "      <td>For node wcossap2.cos.is.smartgurucool.com, Me...</td>\n",
       "      <td>This alert got triggered mistakenly. No memory...</td>\n",
       "      <td>15</td>\n",
       "    </tr>\n",
       "    <tr>\n",
       "      <th>18</th>\n",
       "      <td>atspmigrate03.cos.is.smartgurucool.com E:\\ Lab...</td>\n",
       "      <td>Inform the user to do the necessary housekeepi...</td>\n",
       "      <td>7</td>\n",
       "    </tr>\n",
       "    <tr>\n",
       "      <th>19</th>\n",
       "      <td>On wsrspmc1.srs.is.smartgurucool.com , CPU Uti...</td>\n",
       "      <td>Raise a Change Request (in case of CR required...</td>\n",
       "      <td>14</td>\n",
       "    </tr>\n",
       "  </tbody>\n",
       "</table>\n",
       "</div>"
      ],
      "text/plain": [
       "                                    Short Description  \\\n",
       "0     Host lbjesx02.lbj.is.smartgurucool.com  is Down   \n",
       "1   Host lbjavscan1.lbj.is.smartgurucool.com  is Down   \n",
       "2   Host uscal-pixoslic1.lbj.is.smartgurucool.com ...   \n",
       "3    Host lbjvprox1.lbj.is.smartgurucool.com  is Down   \n",
       "4      Host us-lbj-dc02.ad.smartgurucool.com  is Down   \n",
       "5      Host us-lbj-dc01.ad.smartgurucool.com  is Down   \n",
       "6   Host setoolslbj.lbj.is.smartgurucool.com  is Down   \n",
       "7    Host pixoslic1.lbj.is.smartgurucool.com  is Down   \n",
       "8    Host pixoslic1.lbj.is.smartgurucool.com  is Down   \n",
       "9   Host wlbjcmdp01.lbj.is.smartgurucool.com  is Down   \n",
       "10  On wcoscmp1.cos.is.smartgurucool.com , CPU Uti...   \n",
       "11  On wcoscmp1.cos.is.smartgurucool.com , CPU Uti...   \n",
       "12  For node wpngscfs02.png.is.smartgurucool.com, ...   \n",
       "13  For node wpngscfs02.png.is.smartgurucool.com, ...   \n",
       "14  On wcoscmp1.cos.is.smartgurucool.com , CPU Uti...   \n",
       "15  wcoscmd1.cos.is.smartgurucool.com E:\\ Label:Da...   \n",
       "16  For node csbldvm3u.srs.is.smartgurucool.com, M...   \n",
       "17  For node wcossap2.cos.is.smartgurucool.com, Me...   \n",
       "18  atspmigrate03.cos.is.smartgurucool.com E:\\ Lab...   \n",
       "19  On wsrspmc1.srs.is.smartgurucool.com , CPU Uti...   \n",
       "\n",
       "                                         Action Taken  Action Taken Encoded  \n",
       "0   Check if there's any planned outage going on, ...                     4  \n",
       "1   Check if there's any planned outage going on, ...                     4  \n",
       "2   Check if there's any planned outage going on, ...                     4  \n",
       "3   Check if there's any planned outage going on, ...                     4  \n",
       "4   Check if there's any planned outage going on, ...                     4  \n",
       "5   Check if there's any planned outage going on, ...                     4  \n",
       "6   Check if there's any planned outage going on, ...                     4  \n",
       "7   Check if there's any planned outage going on, ...                     4  \n",
       "8   Check if there's any planned outage going on, ...                     4  \n",
       "9   Check if there's any planned outage going on, ...                     4  \n",
       "10  Raise a Change Request (in case of CR required...                    14  \n",
       "11  Raise a Change Request (in case of CR required...                    14  \n",
       "12  This alert got triggered mistakenly. No memory...                    15  \n",
       "13  This alert got triggered mistakenly. No memory...                    15  \n",
       "14          Add 4 additional CPU cores to the server.                     1  \n",
       "15  Inform the user to do the necessary housekeepi...                     7  \n",
       "16  This alert got triggered mistakenly. No memory...                    15  \n",
       "17  This alert got triggered mistakenly. No memory...                    15  \n",
       "18  Inform the user to do the necessary housekeepi...                     7  \n",
       "19  Raise a Change Request (in case of CR required...                    14  "
      ]
     },
     "execution_count": 7,
     "metadata": {},
     "output_type": "execute_result"
    }
   ],
   "source": [
    "# creating a label encoder object\n",
    "\n",
    "label_encoder = LabelEncoder()\n",
    "data['Action Taken Encoded'] = label_encoder.fit_transform(data['Action Taken'])\n",
    "data.to_csv('dataset_LabelEncoder.csv', header=True, index=False)\n",
    "data.head(20)"
   ]
  },
  {
   "cell_type": "markdown",
   "id": "bff0ddfe",
   "metadata": {},
   "source": [
    "### Naive Bayes Classifier"
   ]
  },
  {
   "cell_type": "code",
   "execution_count": 8,
   "id": "1676783c",
   "metadata": {},
   "outputs": [],
   "source": [
    "# Assuming 'X' is your 'Short Description' column and 'y' is your 'Action Taken Encoded' column\n",
    "X = data['Short Description']\n",
    "y = data['Action Taken Encoded']\n",
    "\n",
    "# Split data into training and testing sets\n",
    "X_train, X_test, y_train, y_test = train_test_split(X, y, test_size=0.2, random_state=42)"
   ]
  },
  {
   "cell_type": "code",
   "execution_count": 9,
   "id": "9e8b5034",
   "metadata": {},
   "outputs": [
    {
     "data": {
      "text/plain": [
       "153248    For node wcosdsql1k.cos.is.smartgurucool.com, ...\n",
       "67802     Warning For node spfirep1.cos.is.smartgurucool...\n",
       "148889    On srsbkp3.srs.is.smartgurucool.com , CPU Util...\n",
       "103093      Host wscscve1.scs.is.smartgurucool.com  is Down\n",
       "104681     Host wdfwldp3k.dfw.is.smartgurucool.com  is Down\n",
       "                                ...                        \n",
       "119879    For pwsg.srs.is.smartgurucool.com MEMORY Utili...\n",
       "103694    Host cosgrid192.cos.is.smartgurucool.com  is Down\n",
       "131932    For ldfwlogs01.dfw.is.smartgurucool.com MEMORY...\n",
       "146867     Host wkobcmdp1.kob.is.smartgurucool.com  is Down\n",
       "121958    For node wcosopelecd1.cos.is.smartgurucool.com...\n",
       "Name: Short Description, Length: 160000, dtype: object"
      ]
     },
     "execution_count": 9,
     "metadata": {},
     "output_type": "execute_result"
    }
   ],
   "source": [
    "X_train"
   ]
  },
  {
   "cell_type": "code",
   "execution_count": 10,
   "id": "5b73df1f",
   "metadata": {},
   "outputs": [
    {
     "data": {
      "text/plain": [
       "153248    15\n",
       "67802     15\n",
       "148889    14\n",
       "103093     4\n",
       "104681     4\n",
       "          ..\n",
       "119879    12\n",
       "103694     4\n",
       "131932    10\n",
       "146867     4\n",
       "121958    15\n",
       "Name: Action Taken Encoded, Length: 160000, dtype: int64"
      ]
     },
     "execution_count": 10,
     "metadata": {},
     "output_type": "execute_result"
    }
   ],
   "source": [
    "y_train"
   ]
  },
  {
   "cell_type": "code",
   "execution_count": 11,
   "id": "47f9e88d",
   "metadata": {},
   "outputs": [
    {
     "name": "stdout",
     "output_type": "stream",
     "text": [
      "Time Taken: 0.026 minutes\n"
     ]
    }
   ],
   "source": [
    "start = time.time()\n",
    "# Initialize a CountVectorizer to convert text into numerical features\n",
    "vectorizer = CountVectorizer()\n",
    "\n",
    "# Fit and transform the training data\n",
    "X_train_vectorized = vectorizer.fit_transform(X_train)\n",
    "\n",
    "# Transform the testing data\n",
    "X_test_vectorized = vectorizer.transform(X_test)\n",
    "\n",
    "# Initialize a Naive Bayes classifier\n",
    "classifier = MultinomialNB()\n",
    "\n",
    "# Train the classifier\n",
    "classifier.fit(X_train_vectorized, y_train)\n",
    "\n",
    "# Predict using the trained model\n",
    "y_pred = classifier.predict(X_test_vectorized)\n",
    "end = time.time()\n",
    "print('Time Taken:',round((end-start)/60,4),'minutes')"
   ]
  },
  {
   "cell_type": "code",
   "execution_count": 12,
   "id": "e6e61075",
   "metadata": {},
   "outputs": [
    {
     "name": "stdout",
     "output_type": "stream",
     "text": [
      "Accuracy: 99.9%\n"
     ]
    }
   ],
   "source": [
    "# Evaluate the model\n",
    "accuracy = accuracy_score(y_test, y_pred)\n",
    "print(f\"Accuracy: {round(accuracy*100,2)}%\")"
   ]
  },
  {
   "cell_type": "markdown",
   "id": "3d7ac5f1",
   "metadata": {},
   "source": [
    "### Support Vector Machine"
   ]
  },
  {
   "cell_type": "code",
   "execution_count": 13,
   "id": "432ca70f",
   "metadata": {},
   "outputs": [
    {
     "name": "stdout",
     "output_type": "stream",
     "text": [
      "Time Taken: 0.1795 minutes\n"
     ]
    }
   ],
   "source": [
    "start = time.time()\n",
    "# Initialize a Support Vector Machine classifier\n",
    "svm_classifier = SVC()\n",
    "\n",
    "# Train the SVM classifier\n",
    "svm_classifier.fit(X_train_vectorized, y_train)\n",
    "\n",
    "# Predict using the trained SVM model\n",
    "svm_y_pred = svm_classifier.predict(X_test_vectorized)\n",
    "end = time.time()\n",
    "print('Time Taken:',round((end-start)/60,4),'minutes')"
   ]
  },
  {
   "cell_type": "code",
   "execution_count": 14,
   "id": "7ed87472",
   "metadata": {},
   "outputs": [
    {
     "name": "stdout",
     "output_type": "stream",
     "text": [
      "SVM Accuracy: 99.99%\n"
     ]
    }
   ],
   "source": [
    "# Evaluate the SVM model\n",
    "svm_accuracy = accuracy_score(y_test, svm_y_pred)\n",
    "print(f\"SVM Accuracy: {round(svm_accuracy*100,2)}%\")"
   ]
  },
  {
   "cell_type": "markdown",
   "id": "e5faac05",
   "metadata": {},
   "source": [
    "### Decision Tree Classifier"
   ]
  },
  {
   "cell_type": "code",
   "execution_count": 15,
   "id": "3b08ccdd",
   "metadata": {},
   "outputs": [
    {
     "name": "stdout",
     "output_type": "stream",
     "text": [
      "Time Taken: 0.0021 minutes\n"
     ]
    }
   ],
   "source": [
    "start = time.time()\n",
    "# Initialize a Decision Tree classifier\n",
    "decision_tree_classifier = DecisionTreeClassifier()\n",
    "\n",
    "# Train the Decision Tree classifier\n",
    "decision_tree_classifier.fit(X_train_vectorized, y_train)\n",
    "\n",
    "# Predict using the trained Decision Tree model\n",
    "dt_y_pred = decision_tree_classifier.predict(X_test_vectorized)\n",
    "end = time.time()\n",
    "print('Time Taken:',round((end-start)/60,4),'minutes')"
   ]
  },
  {
   "cell_type": "code",
   "execution_count": 16,
   "id": "54848399",
   "metadata": {},
   "outputs": [
    {
     "name": "stdout",
     "output_type": "stream",
     "text": [
      "Decision Tree Accuracy: 100.0%\n"
     ]
    }
   ],
   "source": [
    "# Evaluate the Decision Tree model\n",
    "dt_accuracy = accuracy_score(y_test, dt_y_pred)\n",
    "print(f\"Decision Tree Accuracy: {round(dt_accuracy*100,2)}%\")"
   ]
  },
  {
   "cell_type": "markdown",
   "id": "3a6d8e0e",
   "metadata": {},
   "source": [
    "### Random Forest Classifier"
   ]
  },
  {
   "cell_type": "code",
   "execution_count": 17,
   "id": "ba21bad7",
   "metadata": {},
   "outputs": [
    {
     "name": "stdout",
     "output_type": "stream",
     "text": [
      "Time Taken: 0.1288 minutes\n"
     ]
    }
   ],
   "source": [
    "start = time.time()\n",
    "# Initialize a Random Forest classifier\n",
    "random_forest_classifier = RandomForestClassifier()\n",
    "\n",
    "# Train the Random Forest classifier\n",
    "random_forest_classifier.fit(X_train_vectorized, y_train)\n",
    "\n",
    "# Predict using the trained Random Forest model\n",
    "rf_y_pred = random_forest_classifier.predict(X_test_vectorized)\n",
    "end = time.time()\n",
    "print('Time Taken:',round((end-start)/60,4),'minutes')"
   ]
  },
  {
   "cell_type": "code",
   "execution_count": 18,
   "id": "c0ab6dec",
   "metadata": {},
   "outputs": [
    {
     "name": "stdout",
     "output_type": "stream",
     "text": [
      "Random Forest Accuracy: 100.0%\n"
     ]
    }
   ],
   "source": [
    "# Evaluate the Random Forest model\n",
    "rf_accuracy = accuracy_score(y_test, rf_y_pred)\n",
    "print(f\"Random Forest Accuracy: {round(rf_accuracy*100,2)}%\")"
   ]
  },
  {
   "cell_type": "markdown",
   "id": "61ac46fc",
   "metadata": {},
   "source": [
    "### Gradient Boosting Classifier"
   ]
  },
  {
   "cell_type": "code",
   "execution_count": 26,
   "id": "31062081",
   "metadata": {},
   "outputs": [
    {
     "name": "stdout",
     "output_type": "stream",
     "text": [
      "Time Taken: 2.599 minutes\n"
     ]
    }
   ],
   "source": [
    "start = time.time()\n",
    "# Initialize a Gradient Boosting classifier\n",
    "gradient_boosting_classifier = GradientBoostingClassifier()\n",
    "\n",
    "# Train the Gradient Boosting classifier\n",
    "gradient_boosting_classifier.fit(X_train_vectorized, y_train)\n",
    "\n",
    "# Predict using the trained Gradient Boosting model\n",
    "gb_y_pred = gradient_boosting_classifier.predict(X_test_vectorized)\n",
    "end = time.time()\n",
    "print('Time Taken:',round((end-start)/60,4),'minutes')"
   ]
  },
  {
   "cell_type": "code",
   "execution_count": 20,
   "id": "f61259f9",
   "metadata": {},
   "outputs": [
    {
     "name": "stdout",
     "output_type": "stream",
     "text": [
      "Gradient Boosting Accuracy: 100.0%\n"
     ]
    }
   ],
   "source": [
    "# Evaluate the Gradient Boosting model\n",
    "gb_accuracy = accuracy_score(y_test, gb_y_pred)\n",
    "print(f\"Gradient Boosting Accuracy: {round(gb_accuracy*100,2)}%\")"
   ]
  },
  {
   "cell_type": "code",
   "execution_count": 21,
   "id": "c0ff2059",
   "metadata": {},
   "outputs": [],
   "source": [
    "#Observation: This model takes around 3 minutes of time to train."
   ]
  },
  {
   "cell_type": "markdown",
   "id": "c3d886ed",
   "metadata": {},
   "source": [
    "### Application Backend Function"
   ]
  },
  {
   "cell_type": "code",
   "execution_count": 22,
   "id": "d96027fb",
   "metadata": {},
   "outputs": [
    {
     "data": {
      "text/html": [
       "<style>#sk-container-id-1 {color: black;background-color: white;}#sk-container-id-1 pre{padding: 0;}#sk-container-id-1 div.sk-toggleable {background-color: white;}#sk-container-id-1 label.sk-toggleable__label {cursor: pointer;display: block;width: 100%;margin-bottom: 0;padding: 0.3em;box-sizing: border-box;text-align: center;}#sk-container-id-1 label.sk-toggleable__label-arrow:before {content: \"▸\";float: left;margin-right: 0.25em;color: #696969;}#sk-container-id-1 label.sk-toggleable__label-arrow:hover:before {color: black;}#sk-container-id-1 div.sk-estimator:hover label.sk-toggleable__label-arrow:before {color: black;}#sk-container-id-1 div.sk-toggleable__content {max-height: 0;max-width: 0;overflow: hidden;text-align: left;background-color: #f0f8ff;}#sk-container-id-1 div.sk-toggleable__content pre {margin: 0.2em;color: black;border-radius: 0.25em;background-color: #f0f8ff;}#sk-container-id-1 input.sk-toggleable__control:checked~div.sk-toggleable__content {max-height: 200px;max-width: 100%;overflow: auto;}#sk-container-id-1 input.sk-toggleable__control:checked~label.sk-toggleable__label-arrow:before {content: \"▾\";}#sk-container-id-1 div.sk-estimator input.sk-toggleable__control:checked~label.sk-toggleable__label {background-color: #d4ebff;}#sk-container-id-1 div.sk-label input.sk-toggleable__control:checked~label.sk-toggleable__label {background-color: #d4ebff;}#sk-container-id-1 input.sk-hidden--visually {border: 0;clip: rect(1px 1px 1px 1px);clip: rect(1px, 1px, 1px, 1px);height: 1px;margin: -1px;overflow: hidden;padding: 0;position: absolute;width: 1px;}#sk-container-id-1 div.sk-estimator {font-family: monospace;background-color: #f0f8ff;border: 1px dotted black;border-radius: 0.25em;box-sizing: border-box;margin-bottom: 0.5em;}#sk-container-id-1 div.sk-estimator:hover {background-color: #d4ebff;}#sk-container-id-1 div.sk-parallel-item::after {content: \"\";width: 100%;border-bottom: 1px solid gray;flex-grow: 1;}#sk-container-id-1 div.sk-label:hover label.sk-toggleable__label {background-color: #d4ebff;}#sk-container-id-1 div.sk-serial::before {content: \"\";position: absolute;border-left: 1px solid gray;box-sizing: border-box;top: 0;bottom: 0;left: 50%;z-index: 0;}#sk-container-id-1 div.sk-serial {display: flex;flex-direction: column;align-items: center;background-color: white;padding-right: 0.2em;padding-left: 0.2em;position: relative;}#sk-container-id-1 div.sk-item {position: relative;z-index: 1;}#sk-container-id-1 div.sk-parallel {display: flex;align-items: stretch;justify-content: center;background-color: white;position: relative;}#sk-container-id-1 div.sk-item::before, #sk-container-id-1 div.sk-parallel-item::before {content: \"\";position: absolute;border-left: 1px solid gray;box-sizing: border-box;top: 0;bottom: 0;left: 50%;z-index: -1;}#sk-container-id-1 div.sk-parallel-item {display: flex;flex-direction: column;z-index: 1;position: relative;background-color: white;}#sk-container-id-1 div.sk-parallel-item:first-child::after {align-self: flex-end;width: 50%;}#sk-container-id-1 div.sk-parallel-item:last-child::after {align-self: flex-start;width: 50%;}#sk-container-id-1 div.sk-parallel-item:only-child::after {width: 0;}#sk-container-id-1 div.sk-dashed-wrapped {border: 1px dashed gray;margin: 0 0.4em 0.5em 0.4em;box-sizing: border-box;padding-bottom: 0.4em;background-color: white;}#sk-container-id-1 div.sk-label label {font-family: monospace;font-weight: bold;display: inline-block;line-height: 1.2em;}#sk-container-id-1 div.sk-label-container {text-align: center;}#sk-container-id-1 div.sk-container {/* jupyter's `normalize.less` sets `[hidden] { display: none; }` but bootstrap.min.css set `[hidden] { display: none !important; }` so we also need the `!important` here to be able to override the default hidden behavior on the sphinx rendered scikit-learn.org. See: https://github.com/scikit-learn/scikit-learn/issues/21755 */display: inline-block !important;position: relative;}#sk-container-id-1 div.sk-text-repr-fallback {display: none;}</style><div id=\"sk-container-id-1\" class=\"sk-top-container\"><div class=\"sk-text-repr-fallback\"><pre>DecisionTreeClassifier()</pre><b>In a Jupyter environment, please rerun this cell to show the HTML representation or trust the notebook. <br />On GitHub, the HTML representation is unable to render, please try loading this page with nbviewer.org.</b></div><div class=\"sk-container\" hidden><div class=\"sk-item\"><div class=\"sk-estimator sk-toggleable\"><input class=\"sk-toggleable__control sk-hidden--visually\" id=\"sk-estimator-id-1\" type=\"checkbox\" checked><label for=\"sk-estimator-id-1\" class=\"sk-toggleable__label sk-toggleable__label-arrow\">DecisionTreeClassifier</label><div class=\"sk-toggleable__content\"><pre>DecisionTreeClassifier()</pre></div></div></div></div></div>"
      ],
      "text/plain": [
       "DecisionTreeClassifier()"
      ]
     },
     "execution_count": 22,
     "metadata": {},
     "output_type": "execute_result"
    }
   ],
   "source": [
    "# As we are getting 100% accuracy level and minimum time-execution with Decision Tree Classifier, so we are choosing that for building our app\n",
    "data = pd.read_csv('dataset_LabelEncoder.csv')\n",
    "model = DecisionTreeClassifier()\n",
    "\n",
    "# as 'Short Description' is in text, so we need to convert it into text features using CountVectorizer\n",
    "vectorizer = CountVectorizer()\n",
    "X = vectorizer.fit_transform(data['Short Description'])\n",
    "y = data['Action Taken Encoded']\n",
    "\n",
    "# model fitting\n",
    "model.fit(X,y)"
   ]
  },
  {
   "cell_type": "code",
   "execution_count": 23,
   "id": "eb1b18dc",
   "metadata": {},
   "outputs": [
    {
     "name": "stdout",
     "output_type": "stream",
     "text": [
      "4 --> Check if there's any planned outage going on, otherwise go to the vCenter and power on the server. Also, find out the RCA and send it to the end users.\n",
      "14 --> Raise a Change Request (in case of CR required server) and add 4 additional cores of CPU as server might get hung. Already the utilization is very high.\n",
      "15 --> This alert got triggered mistakenly. No memory percentage is mentioned. Kindly send a mail to Tools Team to take necessary action at the earliest.\n",
      "1 --> Add 4 additional CPU cores to the server.\n",
      "7 --> Inform the user to do the necessary housekeeping, but still no much scope then increase the drive by 10 GB.\n",
      "5 --> First, convince the server owner that space addition in C:\\ is not recommended and suggest to move the non-OS items to the non-OS drive like E:\\ or D:\\ etc. If still server owner says that housekepping already done and no further housekeeping is pending, in that case, get the approval from SMEs and increase the C:\\ by additional 5 GB.\n",
      "12 --> Need to add 2 GB of RAM to the server.\n",
      "10 --> Kindly get the SME approval and add 3 GB of RAM to the server.\n",
      "6 --> Inform the GCC Compliance team to take the action at the earliest.\n",
      "0 --> Add 2 more CPU cores to the server.\n",
      "13 --> Please add 1 more CPU core to the server.\n",
      "11 --> Kindly get the SME approval and add 4 GB of RAM to the server.\n",
      "9 --> Kindly add 3 more CPU cores to the server.\n",
      "2 --> Add a new drive of 12 GB instead of extending the old X:\\ drive.\n",
      "3 --> Add one more GB of RAM to the server.\n",
      "8 --> It is a false alert, as this ticket got generated with 0% utilization. Send a high priority mail to Tools Team to review the Solarwinds Polling Agent.\n",
      "17 --> Utilization seems low, keep monitoring the server performance for 2 more days, if if you encounter any continous spike then increase the CPU core by 1.\n",
      "16 --> Utilization is below 50%, keep monitoring the server performance for few more days, if you encounter any spike, then increase the CPU core by 1.\n"
     ]
    }
   ],
   "source": [
    "# reverse mapping for label encoder\n",
    "reverse_mapping = {}\n",
    "for i in data.index:\n",
    "    if int(data['Action Taken Encoded'][i]) not in reverse_mapping:\n",
    "        reverse_mapping[int(data['Action Taken Encoded'][i])] = str(data['Action Taken'][i])\n",
    "\n",
    "for k,v in reverse_mapping.items():\n",
    "    print(k,'-->',v)"
   ]
  },
  {
   "cell_type": "code",
   "execution_count": 24,
   "id": "74256441",
   "metadata": {},
   "outputs": [
    {
     "name": "stdout",
     "output_type": "stream",
     "text": [
      "Predicted Action Taken: First, convince the server owner that space addition in C:\\ is not recommended and suggest to move the non-OS items to the non-OS drive like E:\\ or D:\\ etc. If still server owner says that housekepping already done and no further housekeeping is pending, in that case, get the approval from SMEs and increase the C:\\ by additional 5 GB.\n"
     ]
    }
   ],
   "source": [
    "# main logic\n",
    "def predict_action_taken(short_description):\n",
    "    # preprocessing user input\n",
    "    input_vector = vectorizer.transform([short_description])\n",
    "    \n",
    "    # make prediction\n",
    "    predicted_encoded_action = model.predict(input_vector)[0]\n",
    "    \n",
    "    predicted_action = reverse_mapping.get(predicted_encoded_action,'unknown')\n",
    "    \n",
    "    return predicted_action\n",
    "\n",
    "user_input = 'grapes.ggn.is.smartgurucool.com C:\\ Label:OS Disk  Serial Number 884ECD66 8 %'\n",
    "predicted_action = predict_action_taken(user_input)\n",
    "print(f\"Predicted Action Taken: {predicted_action}\")"
   ]
  },
  {
   "cell_type": "code",
   "execution_count": null,
   "id": "065ff232",
   "metadata": {},
   "outputs": [],
   "source": []
  },
  {
   "cell_type": "code",
   "execution_count": null,
   "id": "c8285493",
   "metadata": {},
   "outputs": [],
   "source": []
  },
  {
   "cell_type": "code",
   "execution_count": null,
   "id": "880f63e8",
   "metadata": {},
   "outputs": [],
   "source": []
  },
  {
   "cell_type": "code",
   "execution_count": null,
   "id": "11c270c9",
   "metadata": {},
   "outputs": [],
   "source": []
  },
  {
   "cell_type": "code",
   "execution_count": null,
   "id": "a6a9167d",
   "metadata": {},
   "outputs": [],
   "source": []
  },
  {
   "cell_type": "code",
   "execution_count": null,
   "id": "7d3a9aeb",
   "metadata": {},
   "outputs": [],
   "source": []
  }
 ],
 "metadata": {
  "kernelspec": {
   "display_name": "Python 3 (ipykernel)",
   "language": "python",
   "name": "python3"
  },
  "language_info": {
   "codemirror_mode": {
    "name": "ipython",
    "version": 3
   },
   "file_extension": ".py",
   "mimetype": "text/x-python",
   "name": "python",
   "nbconvert_exporter": "python",
   "pygments_lexer": "ipython3",
   "version": "3.9.12"
  }
 },
 "nbformat": 4,
 "nbformat_minor": 5
}
