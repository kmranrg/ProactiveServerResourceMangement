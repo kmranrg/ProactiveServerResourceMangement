{
 "cells": [
  {
   "cell_type": "markdown",
   "metadata": {},
   "source": [
    "# <center>Proactive Server Resource Management -  LSTM & RNN</center>"
   ]
  },
  {
   "cell_type": "markdown",
   "metadata": {},
   "source": [
    "<b><p style=\"text-align:right;\">Kumar Anurag</p></b>\n",
    "<p style=\"text-align:right;color:blue\">2021FC04016</p>"
   ]
  },
  {
   "cell_type": "code",
   "execution_count": 1,
   "metadata": {
    "colab": {
     "base_uri": "https://localhost:8080/"
    },
    "id": "bS9PJUo-5yjd",
    "outputId": "18806811-d796-4a8a-e9ff-767bbf3843de"
   },
   "outputs": [
    {
     "name": "stdout",
     "output_type": "stream",
     "text": [
      "Mounted at /content/drive\n"
     ]
    }
   ],
   "source": [
    "from google.colab import drive\n",
    "drive.mount('/content/drive')"
   ]
  },
  {
   "cell_type": "markdown",
   "metadata": {
    "id": "OfPqy-yB_dwP"
   },
   "source": [
    "**Using LSTM**"
   ]
  },
  {
   "cell_type": "code",
   "execution_count": 2,
   "metadata": {
    "id": "xmxt6swk5o1A"
   },
   "outputs": [],
   "source": [
    "import pandas as pd\n",
    "import numpy as np\n",
    "from tensorflow.keras.models import Sequential\n",
    "from tensorflow.keras.layers import Embedding, LSTM, Dense, Dropout\n",
    "from tensorflow.keras.preprocessing.text import Tokenizer\n",
    "from tensorflow.keras.preprocessing.sequence import pad_sequences\n",
    "from sklearn.model_selection import train_test_split"
   ]
  },
  {
   "cell_type": "code",
   "execution_count": 4,
   "metadata": {
    "colab": {
     "base_uri": "https://localhost:8080/",
     "height": 677
    },
    "id": "qzo6Y2X26SMo",
    "outputId": "cbb072b1-648e-4a07-9410-b58162738296"
   },
   "outputs": [
    {
     "data": {
      "text/html": [
       "\n",
       "\n",
       "  <div id=\"df-11624c29-3ee2-4a54-bb3d-d7170ecb1529\">\n",
       "    <div class=\"colab-df-container\">\n",
       "      <div>\n",
       "<style scoped>\n",
       "    .dataframe tbody tr th:only-of-type {\n",
       "        vertical-align: middle;\n",
       "    }\n",
       "\n",
       "    .dataframe tbody tr th {\n",
       "        vertical-align: top;\n",
       "    }\n",
       "\n",
       "    .dataframe thead th {\n",
       "        text-align: right;\n",
       "    }\n",
       "</style>\n",
       "<table border=\"1\" class=\"dataframe\">\n",
       "  <thead>\n",
       "    <tr style=\"text-align: right;\">\n",
       "      <th></th>\n",
       "      <th>Short Description</th>\n",
       "      <th>Action Taken</th>\n",
       "      <th>Action Taken Encoded</th>\n",
       "    </tr>\n",
       "  </thead>\n",
       "  <tbody>\n",
       "    <tr>\n",
       "      <th>0</th>\n",
       "      <td>Host lbjesx02.lbj.is.smartgurucool.com  is Down</td>\n",
       "      <td>Check if there's any planned outage going on, ...</td>\n",
       "      <td>4</td>\n",
       "    </tr>\n",
       "    <tr>\n",
       "      <th>1</th>\n",
       "      <td>Host lbjavscan1.lbj.is.smartgurucool.com  is Down</td>\n",
       "      <td>Check if there's any planned outage going on, ...</td>\n",
       "      <td>4</td>\n",
       "    </tr>\n",
       "    <tr>\n",
       "      <th>2</th>\n",
       "      <td>Host uscal-pixoslic1.lbj.is.smartgurucool.com ...</td>\n",
       "      <td>Check if there's any planned outage going on, ...</td>\n",
       "      <td>4</td>\n",
       "    </tr>\n",
       "    <tr>\n",
       "      <th>3</th>\n",
       "      <td>Host lbjvprox1.lbj.is.smartgurucool.com  is Down</td>\n",
       "      <td>Check if there's any planned outage going on, ...</td>\n",
       "      <td>4</td>\n",
       "    </tr>\n",
       "    <tr>\n",
       "      <th>4</th>\n",
       "      <td>Host us-lbj-dc02.ad.smartgurucool.com  is Down</td>\n",
       "      <td>Check if there's any planned outage going on, ...</td>\n",
       "      <td>4</td>\n",
       "    </tr>\n",
       "    <tr>\n",
       "      <th>5</th>\n",
       "      <td>Host us-lbj-dc01.ad.smartgurucool.com  is Down</td>\n",
       "      <td>Check if there's any planned outage going on, ...</td>\n",
       "      <td>4</td>\n",
       "    </tr>\n",
       "    <tr>\n",
       "      <th>6</th>\n",
       "      <td>Host setoolslbj.lbj.is.smartgurucool.com  is Down</td>\n",
       "      <td>Check if there's any planned outage going on, ...</td>\n",
       "      <td>4</td>\n",
       "    </tr>\n",
       "    <tr>\n",
       "      <th>7</th>\n",
       "      <td>Host pixoslic1.lbj.is.smartgurucool.com  is Down</td>\n",
       "      <td>Check if there's any planned outage going on, ...</td>\n",
       "      <td>4</td>\n",
       "    </tr>\n",
       "    <tr>\n",
       "      <th>8</th>\n",
       "      <td>Host pixoslic1.lbj.is.smartgurucool.com  is Down</td>\n",
       "      <td>Check if there's any planned outage going on, ...</td>\n",
       "      <td>4</td>\n",
       "    </tr>\n",
       "    <tr>\n",
       "      <th>9</th>\n",
       "      <td>Host wlbjcmdp01.lbj.is.smartgurucool.com  is Down</td>\n",
       "      <td>Check if there's any planned outage going on, ...</td>\n",
       "      <td>4</td>\n",
       "    </tr>\n",
       "    <tr>\n",
       "      <th>10</th>\n",
       "      <td>On wcoscmp1.cos.is.smartgurucool.com , CPU Uti...</td>\n",
       "      <td>Raise a Change Request (in case of CR required...</td>\n",
       "      <td>14</td>\n",
       "    </tr>\n",
       "    <tr>\n",
       "      <th>11</th>\n",
       "      <td>On wcoscmp1.cos.is.smartgurucool.com , CPU Uti...</td>\n",
       "      <td>Raise a Change Request (in case of CR required...</td>\n",
       "      <td>14</td>\n",
       "    </tr>\n",
       "    <tr>\n",
       "      <th>12</th>\n",
       "      <td>For node wpngscfs02.png.is.smartgurucool.com, ...</td>\n",
       "      <td>This alert got triggered mistakenly. No memory...</td>\n",
       "      <td>15</td>\n",
       "    </tr>\n",
       "    <tr>\n",
       "      <th>13</th>\n",
       "      <td>For node wpngscfs02.png.is.smartgurucool.com, ...</td>\n",
       "      <td>This alert got triggered mistakenly. No memory...</td>\n",
       "      <td>15</td>\n",
       "    </tr>\n",
       "    <tr>\n",
       "      <th>14</th>\n",
       "      <td>On wcoscmp1.cos.is.smartgurucool.com , CPU Uti...</td>\n",
       "      <td>Add 4 additional CPU cores to the server.</td>\n",
       "      <td>1</td>\n",
       "    </tr>\n",
       "    <tr>\n",
       "      <th>15</th>\n",
       "      <td>wcoscmd1.cos.is.smartgurucool.com E:\\ Label:Da...</td>\n",
       "      <td>Inform the user to do the necessary housekeepi...</td>\n",
       "      <td>7</td>\n",
       "    </tr>\n",
       "    <tr>\n",
       "      <th>16</th>\n",
       "      <td>For node csbldvm3u.srs.is.smartgurucool.com, M...</td>\n",
       "      <td>This alert got triggered mistakenly. No memory...</td>\n",
       "      <td>15</td>\n",
       "    </tr>\n",
       "    <tr>\n",
       "      <th>17</th>\n",
       "      <td>For node wcossap2.cos.is.smartgurucool.com, Me...</td>\n",
       "      <td>This alert got triggered mistakenly. No memory...</td>\n",
       "      <td>15</td>\n",
       "    </tr>\n",
       "    <tr>\n",
       "      <th>18</th>\n",
       "      <td>atspmigrate03.cos.is.smartgurucool.com E:\\ Lab...</td>\n",
       "      <td>Inform the user to do the necessary housekeepi...</td>\n",
       "      <td>7</td>\n",
       "    </tr>\n",
       "    <tr>\n",
       "      <th>19</th>\n",
       "      <td>On wsrspmc1.srs.is.smartgurucool.com , CPU Uti...</td>\n",
       "      <td>Raise a Change Request (in case of CR required...</td>\n",
       "      <td>14</td>\n",
       "    </tr>\n",
       "  </tbody>\n",
       "</table>\n",
       "</div>\n",
       "      <button class=\"colab-df-convert\" onclick=\"convertToInteractive('df-11624c29-3ee2-4a54-bb3d-d7170ecb1529')\"\n",
       "              title=\"Convert this dataframe to an interactive table.\"\n",
       "              style=\"display:none;\">\n",
       "\n",
       "  <svg xmlns=\"http://www.w3.org/2000/svg\" height=\"24px\"viewBox=\"0 0 24 24\"\n",
       "       width=\"24px\">\n",
       "    <path d=\"M0 0h24v24H0V0z\" fill=\"none\"/>\n",
       "    <path d=\"M18.56 5.44l.94 2.06.94-2.06 2.06-.94-2.06-.94-.94-2.06-.94 2.06-2.06.94zm-11 1L8.5 8.5l.94-2.06 2.06-.94-2.06-.94L8.5 2.5l-.94 2.06-2.06.94zm10 10l.94 2.06.94-2.06 2.06-.94-2.06-.94-.94-2.06-.94 2.06-2.06.94z\"/><path d=\"M17.41 7.96l-1.37-1.37c-.4-.4-.92-.59-1.43-.59-.52 0-1.04.2-1.43.59L10.3 9.45l-7.72 7.72c-.78.78-.78 2.05 0 2.83L4 21.41c.39.39.9.59 1.41.59.51 0 1.02-.2 1.41-.59l7.78-7.78 2.81-2.81c.8-.78.8-2.07 0-2.86zM5.41 20L4 18.59l7.72-7.72 1.47 1.35L5.41 20z\"/>\n",
       "  </svg>\n",
       "      </button>\n",
       "\n",
       "\n",
       "\n",
       "    <div id=\"df-374cadaa-692c-485a-b0b6-65ea2cd2fa34\">\n",
       "      <button class=\"colab-df-quickchart\" onclick=\"quickchart('df-374cadaa-692c-485a-b0b6-65ea2cd2fa34')\"\n",
       "              title=\"Suggest charts.\"\n",
       "              style=\"display:none;\">\n",
       "\n",
       "<svg xmlns=\"http://www.w3.org/2000/svg\" height=\"24px\"viewBox=\"0 0 24 24\"\n",
       "     width=\"24px\">\n",
       "    <g>\n",
       "        <path d=\"M19 3H5c-1.1 0-2 .9-2 2v14c0 1.1.9 2 2 2h14c1.1 0 2-.9 2-2V5c0-1.1-.9-2-2-2zM9 17H7v-7h2v7zm4 0h-2V7h2v10zm4 0h-2v-4h2v4z\"/>\n",
       "    </g>\n",
       "</svg>\n",
       "      </button>\n",
       "    </div>\n",
       "\n",
       "<style>\n",
       "  .colab-df-quickchart {\n",
       "    background-color: #E8F0FE;\n",
       "    border: none;\n",
       "    border-radius: 50%;\n",
       "    cursor: pointer;\n",
       "    display: none;\n",
       "    fill: #1967D2;\n",
       "    height: 32px;\n",
       "    padding: 0 0 0 0;\n",
       "    width: 32px;\n",
       "  }\n",
       "\n",
       "  .colab-df-quickchart:hover {\n",
       "    background-color: #E2EBFA;\n",
       "    box-shadow: 0px 1px 2px rgba(60, 64, 67, 0.3), 0px 1px 3px 1px rgba(60, 64, 67, 0.15);\n",
       "    fill: #174EA6;\n",
       "  }\n",
       "\n",
       "  [theme=dark] .colab-df-quickchart {\n",
       "    background-color: #3B4455;\n",
       "    fill: #D2E3FC;\n",
       "  }\n",
       "\n",
       "  [theme=dark] .colab-df-quickchart:hover {\n",
       "    background-color: #434B5C;\n",
       "    box-shadow: 0px 1px 3px 1px rgba(0, 0, 0, 0.15);\n",
       "    filter: drop-shadow(0px 1px 2px rgba(0, 0, 0, 0.3));\n",
       "    fill: #FFFFFF;\n",
       "  }\n",
       "</style>\n",
       "\n",
       "    <script>\n",
       "      async function quickchart(key) {\n",
       "        const containerElement = document.querySelector('#' + key);\n",
       "        const charts = await google.colab.kernel.invokeFunction(\n",
       "            'suggestCharts', [key], {});\n",
       "      }\n",
       "    </script>\n",
       "\n",
       "      <script>\n",
       "\n",
       "function displayQuickchartButton(domScope) {\n",
       "  let quickchartButtonEl =\n",
       "    domScope.querySelector('#df-374cadaa-692c-485a-b0b6-65ea2cd2fa34 button.colab-df-quickchart');\n",
       "  quickchartButtonEl.style.display =\n",
       "    google.colab.kernel.accessAllowed ? 'block' : 'none';\n",
       "}\n",
       "\n",
       "        displayQuickchartButton(document);\n",
       "      </script>\n",
       "      <style>\n",
       "    .colab-df-container {\n",
       "      display:flex;\n",
       "      flex-wrap:wrap;\n",
       "      gap: 12px;\n",
       "    }\n",
       "\n",
       "    .colab-df-convert {\n",
       "      background-color: #E8F0FE;\n",
       "      border: none;\n",
       "      border-radius: 50%;\n",
       "      cursor: pointer;\n",
       "      display: none;\n",
       "      fill: #1967D2;\n",
       "      height: 32px;\n",
       "      padding: 0 0 0 0;\n",
       "      width: 32px;\n",
       "    }\n",
       "\n",
       "    .colab-df-convert:hover {\n",
       "      background-color: #E2EBFA;\n",
       "      box-shadow: 0px 1px 2px rgba(60, 64, 67, 0.3), 0px 1px 3px 1px rgba(60, 64, 67, 0.15);\n",
       "      fill: #174EA6;\n",
       "    }\n",
       "\n",
       "    [theme=dark] .colab-df-convert {\n",
       "      background-color: #3B4455;\n",
       "      fill: #D2E3FC;\n",
       "    }\n",
       "\n",
       "    [theme=dark] .colab-df-convert:hover {\n",
       "      background-color: #434B5C;\n",
       "      box-shadow: 0px 1px 3px 1px rgba(0, 0, 0, 0.15);\n",
       "      filter: drop-shadow(0px 1px 2px rgba(0, 0, 0, 0.3));\n",
       "      fill: #FFFFFF;\n",
       "    }\n",
       "  </style>\n",
       "\n",
       "      <script>\n",
       "        const buttonEl =\n",
       "          document.querySelector('#df-11624c29-3ee2-4a54-bb3d-d7170ecb1529 button.colab-df-convert');\n",
       "        buttonEl.style.display =\n",
       "          google.colab.kernel.accessAllowed ? 'block' : 'none';\n",
       "\n",
       "        async function convertToInteractive(key) {\n",
       "          const element = document.querySelector('#df-11624c29-3ee2-4a54-bb3d-d7170ecb1529');\n",
       "          const dataTable =\n",
       "            await google.colab.kernel.invokeFunction('convertToInteractive',\n",
       "                                                     [key], {});\n",
       "          if (!dataTable) return;\n",
       "\n",
       "          const docLinkHtml = 'Like what you see? Visit the ' +\n",
       "            '<a target=\"_blank\" href=https://colab.research.google.com/notebooks/data_table.ipynb>data table notebook</a>'\n",
       "            + ' to learn more about interactive tables.';\n",
       "          element.innerHTML = '';\n",
       "          dataTable['output_type'] = 'display_data';\n",
       "          await google.colab.output.renderOutput(dataTable, element);\n",
       "          const docLink = document.createElement('div');\n",
       "          docLink.innerHTML = docLinkHtml;\n",
       "          element.appendChild(docLink);\n",
       "        }\n",
       "      </script>\n",
       "    </div>\n",
       "  </div>\n"
      ],
      "text/plain": [
       "                                    Short Description  \\\n",
       "0     Host lbjesx02.lbj.is.smartgurucool.com  is Down   \n",
       "1   Host lbjavscan1.lbj.is.smartgurucool.com  is Down   \n",
       "2   Host uscal-pixoslic1.lbj.is.smartgurucool.com ...   \n",
       "3    Host lbjvprox1.lbj.is.smartgurucool.com  is Down   \n",
       "4      Host us-lbj-dc02.ad.smartgurucool.com  is Down   \n",
       "5      Host us-lbj-dc01.ad.smartgurucool.com  is Down   \n",
       "6   Host setoolslbj.lbj.is.smartgurucool.com  is Down   \n",
       "7    Host pixoslic1.lbj.is.smartgurucool.com  is Down   \n",
       "8    Host pixoslic1.lbj.is.smartgurucool.com  is Down   \n",
       "9   Host wlbjcmdp01.lbj.is.smartgurucool.com  is Down   \n",
       "10  On wcoscmp1.cos.is.smartgurucool.com , CPU Uti...   \n",
       "11  On wcoscmp1.cos.is.smartgurucool.com , CPU Uti...   \n",
       "12  For node wpngscfs02.png.is.smartgurucool.com, ...   \n",
       "13  For node wpngscfs02.png.is.smartgurucool.com, ...   \n",
       "14  On wcoscmp1.cos.is.smartgurucool.com , CPU Uti...   \n",
       "15  wcoscmd1.cos.is.smartgurucool.com E:\\ Label:Da...   \n",
       "16  For node csbldvm3u.srs.is.smartgurucool.com, M...   \n",
       "17  For node wcossap2.cos.is.smartgurucool.com, Me...   \n",
       "18  atspmigrate03.cos.is.smartgurucool.com E:\\ Lab...   \n",
       "19  On wsrspmc1.srs.is.smartgurucool.com , CPU Uti...   \n",
       "\n",
       "                                         Action Taken  Action Taken Encoded  \n",
       "0   Check if there's any planned outage going on, ...                     4  \n",
       "1   Check if there's any planned outage going on, ...                     4  \n",
       "2   Check if there's any planned outage going on, ...                     4  \n",
       "3   Check if there's any planned outage going on, ...                     4  \n",
       "4   Check if there's any planned outage going on, ...                     4  \n",
       "5   Check if there's any planned outage going on, ...                     4  \n",
       "6   Check if there's any planned outage going on, ...                     4  \n",
       "7   Check if there's any planned outage going on, ...                     4  \n",
       "8   Check if there's any planned outage going on, ...                     4  \n",
       "9   Check if there's any planned outage going on, ...                     4  \n",
       "10  Raise a Change Request (in case of CR required...                    14  \n",
       "11  Raise a Change Request (in case of CR required...                    14  \n",
       "12  This alert got triggered mistakenly. No memory...                    15  \n",
       "13  This alert got triggered mistakenly. No memory...                    15  \n",
       "14          Add 4 additional CPU cores to the server.                     1  \n",
       "15  Inform the user to do the necessary housekeepi...                     7  \n",
       "16  This alert got triggered mistakenly. No memory...                    15  \n",
       "17  This alert got triggered mistakenly. No memory...                    15  \n",
       "18  Inform the user to do the necessary housekeepi...                     7  \n",
       "19  Raise a Change Request (in case of CR required...                    14  "
      ]
     },
     "execution_count": 4,
     "metadata": {},
     "output_type": "execute_result"
    }
   ],
   "source": [
    "data = pd.read_csv('/content/drive/MyDrive/dataset/dataset_LabelEncoder.csv')\n",
    "data.head(20)"
   ]
  },
  {
   "cell_type": "code",
   "execution_count": 5,
   "metadata": {
    "id": "lwQ_41z66tzi"
   },
   "outputs": [],
   "source": [
    "X = data['Short Description']\n",
    "y = data['Action Taken Encoded']"
   ]
  },
  {
   "cell_type": "code",
   "execution_count": 6,
   "metadata": {
    "id": "o36SRISa6t13"
   },
   "outputs": [],
   "source": [
    "# Split data into training and testing sets\n",
    "X_train, X_test, y_train, y_test = train_test_split(X, y, test_size=0.2, random_state=42)\n"
   ]
  },
  {
   "cell_type": "code",
   "execution_count": 7,
   "metadata": {
    "id": "QKokrzTa6t4N"
   },
   "outputs": [],
   "source": [
    "# Tokenize the text data\n",
    "tokenizer = Tokenizer()\n",
    "tokenizer.fit_on_texts(X_train)"
   ]
  },
  {
   "cell_type": "code",
   "execution_count": 8,
   "metadata": {
    "id": "zNSAh6xH6t60"
   },
   "outputs": [],
   "source": [
    "# Convert text data to sequences of integers\n",
    "X_train_seq = tokenizer.texts_to_sequences(X_train)\n",
    "X_test_seq = tokenizer.texts_to_sequences(X_test)"
   ]
  },
  {
   "cell_type": "code",
   "execution_count": 13,
   "metadata": {
    "id": "twaegdfO6t9K"
   },
   "outputs": [],
   "source": [
    "# Pad sequences to have the same length\n",
    "max_sequence_length = max([len(seq) for seq in X_train_seq])\n",
    "X_train_padded = pad_sequences(X_train_seq, maxlen=max_sequence_length)\n",
    "X_test_padded = pad_sequences(X_test_seq, maxlen=max_sequence_length)"
   ]
  },
  {
   "cell_type": "code",
   "execution_count": 14,
   "metadata": {
    "id": "KGnIY2yG6t_g"
   },
   "outputs": [],
   "source": [
    "# Define the number of classes (output units)\n",
    "num_classes = len(np.unique(y))"
   ]
  },
  {
   "cell_type": "code",
   "execution_count": 15,
   "metadata": {
    "id": "4PPktkgx6uCH"
   },
   "outputs": [],
   "source": [
    "# Build the LSTM model\n",
    "model = Sequential()\n",
    "model.add(Embedding(input_dim=len(tokenizer.word_index) + 1, output_dim=100, input_length=max_sequence_length))\n",
    "model.add(LSTM(100))\n",
    "model.add(Dense(num_classes, activation='softmax'))"
   ]
  },
  {
   "cell_type": "code",
   "execution_count": 16,
   "metadata": {
    "id": "Lt_oyIGp6uEc"
   },
   "outputs": [],
   "source": [
    "# Compile the model\n",
    "model.compile(loss='sparse_categorical_crossentropy', optimizer='adam', metrics=['accuracy'])\n"
   ]
  },
  {
   "cell_type": "code",
   "execution_count": 17,
   "metadata": {
    "colab": {
     "base_uri": "https://localhost:8080/"
    },
    "id": "AaWg8Yvc6uHE",
    "outputId": "c15ac6df-97a9-4ca0-b52e-0181fdc80ba3"
   },
   "outputs": [
    {
     "name": "stdout",
     "output_type": "stream",
     "text": [
      "Epoch 1/5\n",
      "2500/2500 [==============================] - 118s 47ms/step - loss: 0.0542 - accuracy: 0.9865 - val_loss: 0.0020 - val_accuracy: 0.9997\n",
      "Epoch 2/5\n",
      "2500/2500 [==============================] - 113s 45ms/step - loss: 0.0011 - accuracy: 0.9998 - val_loss: 5.2049e-04 - val_accuracy: 0.9998\n",
      "Epoch 3/5\n",
      "2500/2500 [==============================] - 116s 46ms/step - loss: 3.6705e-04 - accuracy: 0.9999 - val_loss: 9.9404e-05 - val_accuracy: 1.0000\n",
      "Epoch 4/5\n",
      "2500/2500 [==============================] - 117s 47ms/step - loss: 5.8714e-04 - accuracy: 0.9999 - val_loss: 3.6699e-05 - val_accuracy: 1.0000\n",
      "Epoch 5/5\n",
      "2500/2500 [==============================] - 118s 47ms/step - loss: 1.0881e-05 - accuracy: 1.0000 - val_loss: 6.7892e-06 - val_accuracy: 1.0000\n"
     ]
    },
    {
     "data": {
      "text/plain": [
       "<keras.callbacks.History at 0x7cb4dc491540>"
      ]
     },
     "execution_count": 17,
     "metadata": {},
     "output_type": "execute_result"
    }
   ],
   "source": [
    "# Train the model\n",
    "model.fit(X_train_padded, y_train, validation_data=(X_test_padded, y_test), epochs=5, batch_size=64)"
   ]
  },
  {
   "cell_type": "code",
   "execution_count": 21,
   "metadata": {
    "colab": {
     "base_uri": "https://localhost:8080/"
    },
    "id": "ekeWHtNN-l8I",
    "outputId": "ca157640-a7ce-4131-94da-664c44631f52"
   },
   "outputs": [
    {
     "name": "stdout",
     "output_type": "stream",
     "text": [
      "Test Loss: 0.0%\n",
      "Test Accuracy: 100.0%\n"
     ]
    }
   ],
   "source": [
    "# Evaluate the model on the test data\n",
    "loss, accuracy = model.evaluate(X_test_padded, y_test, verbose=0)\n",
    "\n",
    "print(f\"Test Loss: {round(loss,2) * 100}%\")\n",
    "print(f\"Test Accuracy: {round(accuracy,2) * 100}%\")\n"
   ]
  },
  {
   "cell_type": "code",
   "execution_count": null,
   "metadata": {
    "id": "W9Wg4hjx-mIX"
   },
   "outputs": [],
   "source": []
  },
  {
   "cell_type": "markdown",
   "metadata": {
    "id": "D8uzEijB_mCb"
   },
   "source": [
    "**Using RNN**"
   ]
  },
  {
   "cell_type": "code",
   "execution_count": 22,
   "metadata": {
    "id": "FzztZVGO_qxD"
   },
   "outputs": [],
   "source": [
    "import numpy as np\n",
    "import pandas as pd\n",
    "from sklearn.model_selection import train_test_split\n",
    "from tensorflow.keras.models import Sequential\n",
    "from tensorflow.keras.layers import Embedding, SimpleRNN, Dense\n",
    "from tensorflow.keras.preprocessing.text import Tokenizer\n",
    "from tensorflow.keras.preprocessing.sequence import pad_sequences"
   ]
  },
  {
   "cell_type": "code",
   "execution_count": 23,
   "metadata": {
    "colab": {
     "base_uri": "https://localhost:8080/",
     "height": 677
    },
    "id": "OfnIaMy6_uI6",
    "outputId": "b4b1e54f-635a-4501-d372-f895772981bc"
   },
   "outputs": [
    {
     "data": {
      "text/html": [
       "\n",
       "\n",
       "  <div id=\"df-fc77cdc1-0ebb-4ed3-b758-897a66edf34e\">\n",
       "    <div class=\"colab-df-container\">\n",
       "      <div>\n",
       "<style scoped>\n",
       "    .dataframe tbody tr th:only-of-type {\n",
       "        vertical-align: middle;\n",
       "    }\n",
       "\n",
       "    .dataframe tbody tr th {\n",
       "        vertical-align: top;\n",
       "    }\n",
       "\n",
       "    .dataframe thead th {\n",
       "        text-align: right;\n",
       "    }\n",
       "</style>\n",
       "<table border=\"1\" class=\"dataframe\">\n",
       "  <thead>\n",
       "    <tr style=\"text-align: right;\">\n",
       "      <th></th>\n",
       "      <th>Short Description</th>\n",
       "      <th>Action Taken</th>\n",
       "      <th>Action Taken Encoded</th>\n",
       "    </tr>\n",
       "  </thead>\n",
       "  <tbody>\n",
       "    <tr>\n",
       "      <th>0</th>\n",
       "      <td>Host lbjesx02.lbj.is.smartgurucool.com  is Down</td>\n",
       "      <td>Check if there's any planned outage going on, ...</td>\n",
       "      <td>4</td>\n",
       "    </tr>\n",
       "    <tr>\n",
       "      <th>1</th>\n",
       "      <td>Host lbjavscan1.lbj.is.smartgurucool.com  is Down</td>\n",
       "      <td>Check if there's any planned outage going on, ...</td>\n",
       "      <td>4</td>\n",
       "    </tr>\n",
       "    <tr>\n",
       "      <th>2</th>\n",
       "      <td>Host uscal-pixoslic1.lbj.is.smartgurucool.com ...</td>\n",
       "      <td>Check if there's any planned outage going on, ...</td>\n",
       "      <td>4</td>\n",
       "    </tr>\n",
       "    <tr>\n",
       "      <th>3</th>\n",
       "      <td>Host lbjvprox1.lbj.is.smartgurucool.com  is Down</td>\n",
       "      <td>Check if there's any planned outage going on, ...</td>\n",
       "      <td>4</td>\n",
       "    </tr>\n",
       "    <tr>\n",
       "      <th>4</th>\n",
       "      <td>Host us-lbj-dc02.ad.smartgurucool.com  is Down</td>\n",
       "      <td>Check if there's any planned outage going on, ...</td>\n",
       "      <td>4</td>\n",
       "    </tr>\n",
       "    <tr>\n",
       "      <th>5</th>\n",
       "      <td>Host us-lbj-dc01.ad.smartgurucool.com  is Down</td>\n",
       "      <td>Check if there's any planned outage going on, ...</td>\n",
       "      <td>4</td>\n",
       "    </tr>\n",
       "    <tr>\n",
       "      <th>6</th>\n",
       "      <td>Host setoolslbj.lbj.is.smartgurucool.com  is Down</td>\n",
       "      <td>Check if there's any planned outage going on, ...</td>\n",
       "      <td>4</td>\n",
       "    </tr>\n",
       "    <tr>\n",
       "      <th>7</th>\n",
       "      <td>Host pixoslic1.lbj.is.smartgurucool.com  is Down</td>\n",
       "      <td>Check if there's any planned outage going on, ...</td>\n",
       "      <td>4</td>\n",
       "    </tr>\n",
       "    <tr>\n",
       "      <th>8</th>\n",
       "      <td>Host pixoslic1.lbj.is.smartgurucool.com  is Down</td>\n",
       "      <td>Check if there's any planned outage going on, ...</td>\n",
       "      <td>4</td>\n",
       "    </tr>\n",
       "    <tr>\n",
       "      <th>9</th>\n",
       "      <td>Host wlbjcmdp01.lbj.is.smartgurucool.com  is Down</td>\n",
       "      <td>Check if there's any planned outage going on, ...</td>\n",
       "      <td>4</td>\n",
       "    </tr>\n",
       "    <tr>\n",
       "      <th>10</th>\n",
       "      <td>On wcoscmp1.cos.is.smartgurucool.com , CPU Uti...</td>\n",
       "      <td>Raise a Change Request (in case of CR required...</td>\n",
       "      <td>14</td>\n",
       "    </tr>\n",
       "    <tr>\n",
       "      <th>11</th>\n",
       "      <td>On wcoscmp1.cos.is.smartgurucool.com , CPU Uti...</td>\n",
       "      <td>Raise a Change Request (in case of CR required...</td>\n",
       "      <td>14</td>\n",
       "    </tr>\n",
       "    <tr>\n",
       "      <th>12</th>\n",
       "      <td>For node wpngscfs02.png.is.smartgurucool.com, ...</td>\n",
       "      <td>This alert got triggered mistakenly. No memory...</td>\n",
       "      <td>15</td>\n",
       "    </tr>\n",
       "    <tr>\n",
       "      <th>13</th>\n",
       "      <td>For node wpngscfs02.png.is.smartgurucool.com, ...</td>\n",
       "      <td>This alert got triggered mistakenly. No memory...</td>\n",
       "      <td>15</td>\n",
       "    </tr>\n",
       "    <tr>\n",
       "      <th>14</th>\n",
       "      <td>On wcoscmp1.cos.is.smartgurucool.com , CPU Uti...</td>\n",
       "      <td>Add 4 additional CPU cores to the server.</td>\n",
       "      <td>1</td>\n",
       "    </tr>\n",
       "    <tr>\n",
       "      <th>15</th>\n",
       "      <td>wcoscmd1.cos.is.smartgurucool.com E:\\ Label:Da...</td>\n",
       "      <td>Inform the user to do the necessary housekeepi...</td>\n",
       "      <td>7</td>\n",
       "    </tr>\n",
       "    <tr>\n",
       "      <th>16</th>\n",
       "      <td>For node csbldvm3u.srs.is.smartgurucool.com, M...</td>\n",
       "      <td>This alert got triggered mistakenly. No memory...</td>\n",
       "      <td>15</td>\n",
       "    </tr>\n",
       "    <tr>\n",
       "      <th>17</th>\n",
       "      <td>For node wcossap2.cos.is.smartgurucool.com, Me...</td>\n",
       "      <td>This alert got triggered mistakenly. No memory...</td>\n",
       "      <td>15</td>\n",
       "    </tr>\n",
       "    <tr>\n",
       "      <th>18</th>\n",
       "      <td>atspmigrate03.cos.is.smartgurucool.com E:\\ Lab...</td>\n",
       "      <td>Inform the user to do the necessary housekeepi...</td>\n",
       "      <td>7</td>\n",
       "    </tr>\n",
       "    <tr>\n",
       "      <th>19</th>\n",
       "      <td>On wsrspmc1.srs.is.smartgurucool.com , CPU Uti...</td>\n",
       "      <td>Raise a Change Request (in case of CR required...</td>\n",
       "      <td>14</td>\n",
       "    </tr>\n",
       "  </tbody>\n",
       "</table>\n",
       "</div>\n",
       "      <button class=\"colab-df-convert\" onclick=\"convertToInteractive('df-fc77cdc1-0ebb-4ed3-b758-897a66edf34e')\"\n",
       "              title=\"Convert this dataframe to an interactive table.\"\n",
       "              style=\"display:none;\">\n",
       "\n",
       "  <svg xmlns=\"http://www.w3.org/2000/svg\" height=\"24px\"viewBox=\"0 0 24 24\"\n",
       "       width=\"24px\">\n",
       "    <path d=\"M0 0h24v24H0V0z\" fill=\"none\"/>\n",
       "    <path d=\"M18.56 5.44l.94 2.06.94-2.06 2.06-.94-2.06-.94-.94-2.06-.94 2.06-2.06.94zm-11 1L8.5 8.5l.94-2.06 2.06-.94-2.06-.94L8.5 2.5l-.94 2.06-2.06.94zm10 10l.94 2.06.94-2.06 2.06-.94-2.06-.94-.94-2.06-.94 2.06-2.06.94z\"/><path d=\"M17.41 7.96l-1.37-1.37c-.4-.4-.92-.59-1.43-.59-.52 0-1.04.2-1.43.59L10.3 9.45l-7.72 7.72c-.78.78-.78 2.05 0 2.83L4 21.41c.39.39.9.59 1.41.59.51 0 1.02-.2 1.41-.59l7.78-7.78 2.81-2.81c.8-.78.8-2.07 0-2.86zM5.41 20L4 18.59l7.72-7.72 1.47 1.35L5.41 20z\"/>\n",
       "  </svg>\n",
       "      </button>\n",
       "\n",
       "\n",
       "\n",
       "    <div id=\"df-9fbdc16b-2bdd-437e-a4cb-c66248516dba\">\n",
       "      <button class=\"colab-df-quickchart\" onclick=\"quickchart('df-9fbdc16b-2bdd-437e-a4cb-c66248516dba')\"\n",
       "              title=\"Suggest charts.\"\n",
       "              style=\"display:none;\">\n",
       "\n",
       "<svg xmlns=\"http://www.w3.org/2000/svg\" height=\"24px\"viewBox=\"0 0 24 24\"\n",
       "     width=\"24px\">\n",
       "    <g>\n",
       "        <path d=\"M19 3H5c-1.1 0-2 .9-2 2v14c0 1.1.9 2 2 2h14c1.1 0 2-.9 2-2V5c0-1.1-.9-2-2-2zM9 17H7v-7h2v7zm4 0h-2V7h2v10zm4 0h-2v-4h2v4z\"/>\n",
       "    </g>\n",
       "</svg>\n",
       "      </button>\n",
       "    </div>\n",
       "\n",
       "<style>\n",
       "  .colab-df-quickchart {\n",
       "    background-color: #E8F0FE;\n",
       "    border: none;\n",
       "    border-radius: 50%;\n",
       "    cursor: pointer;\n",
       "    display: none;\n",
       "    fill: #1967D2;\n",
       "    height: 32px;\n",
       "    padding: 0 0 0 0;\n",
       "    width: 32px;\n",
       "  }\n",
       "\n",
       "  .colab-df-quickchart:hover {\n",
       "    background-color: #E2EBFA;\n",
       "    box-shadow: 0px 1px 2px rgba(60, 64, 67, 0.3), 0px 1px 3px 1px rgba(60, 64, 67, 0.15);\n",
       "    fill: #174EA6;\n",
       "  }\n",
       "\n",
       "  [theme=dark] .colab-df-quickchart {\n",
       "    background-color: #3B4455;\n",
       "    fill: #D2E3FC;\n",
       "  }\n",
       "\n",
       "  [theme=dark] .colab-df-quickchart:hover {\n",
       "    background-color: #434B5C;\n",
       "    box-shadow: 0px 1px 3px 1px rgba(0, 0, 0, 0.15);\n",
       "    filter: drop-shadow(0px 1px 2px rgba(0, 0, 0, 0.3));\n",
       "    fill: #FFFFFF;\n",
       "  }\n",
       "</style>\n",
       "\n",
       "    <script>\n",
       "      async function quickchart(key) {\n",
       "        const containerElement = document.querySelector('#' + key);\n",
       "        const charts = await google.colab.kernel.invokeFunction(\n",
       "            'suggestCharts', [key], {});\n",
       "      }\n",
       "    </script>\n",
       "\n",
       "      <script>\n",
       "\n",
       "function displayQuickchartButton(domScope) {\n",
       "  let quickchartButtonEl =\n",
       "    domScope.querySelector('#df-9fbdc16b-2bdd-437e-a4cb-c66248516dba button.colab-df-quickchart');\n",
       "  quickchartButtonEl.style.display =\n",
       "    google.colab.kernel.accessAllowed ? 'block' : 'none';\n",
       "}\n",
       "\n",
       "        displayQuickchartButton(document);\n",
       "      </script>\n",
       "      <style>\n",
       "    .colab-df-container {\n",
       "      display:flex;\n",
       "      flex-wrap:wrap;\n",
       "      gap: 12px;\n",
       "    }\n",
       "\n",
       "    .colab-df-convert {\n",
       "      background-color: #E8F0FE;\n",
       "      border: none;\n",
       "      border-radius: 50%;\n",
       "      cursor: pointer;\n",
       "      display: none;\n",
       "      fill: #1967D2;\n",
       "      height: 32px;\n",
       "      padding: 0 0 0 0;\n",
       "      width: 32px;\n",
       "    }\n",
       "\n",
       "    .colab-df-convert:hover {\n",
       "      background-color: #E2EBFA;\n",
       "      box-shadow: 0px 1px 2px rgba(60, 64, 67, 0.3), 0px 1px 3px 1px rgba(60, 64, 67, 0.15);\n",
       "      fill: #174EA6;\n",
       "    }\n",
       "\n",
       "    [theme=dark] .colab-df-convert {\n",
       "      background-color: #3B4455;\n",
       "      fill: #D2E3FC;\n",
       "    }\n",
       "\n",
       "    [theme=dark] .colab-df-convert:hover {\n",
       "      background-color: #434B5C;\n",
       "      box-shadow: 0px 1px 3px 1px rgba(0, 0, 0, 0.15);\n",
       "      filter: drop-shadow(0px 1px 2px rgba(0, 0, 0, 0.3));\n",
       "      fill: #FFFFFF;\n",
       "    }\n",
       "  </style>\n",
       "\n",
       "      <script>\n",
       "        const buttonEl =\n",
       "          document.querySelector('#df-fc77cdc1-0ebb-4ed3-b758-897a66edf34e button.colab-df-convert');\n",
       "        buttonEl.style.display =\n",
       "          google.colab.kernel.accessAllowed ? 'block' : 'none';\n",
       "\n",
       "        async function convertToInteractive(key) {\n",
       "          const element = document.querySelector('#df-fc77cdc1-0ebb-4ed3-b758-897a66edf34e');\n",
       "          const dataTable =\n",
       "            await google.colab.kernel.invokeFunction('convertToInteractive',\n",
       "                                                     [key], {});\n",
       "          if (!dataTable) return;\n",
       "\n",
       "          const docLinkHtml = 'Like what you see? Visit the ' +\n",
       "            '<a target=\"_blank\" href=https://colab.research.google.com/notebooks/data_table.ipynb>data table notebook</a>'\n",
       "            + ' to learn more about interactive tables.';\n",
       "          element.innerHTML = '';\n",
       "          dataTable['output_type'] = 'display_data';\n",
       "          await google.colab.output.renderOutput(dataTable, element);\n",
       "          const docLink = document.createElement('div');\n",
       "          docLink.innerHTML = docLinkHtml;\n",
       "          element.appendChild(docLink);\n",
       "        }\n",
       "      </script>\n",
       "    </div>\n",
       "  </div>\n"
      ],
      "text/plain": [
       "                                    Short Description  \\\n",
       "0     Host lbjesx02.lbj.is.smartgurucool.com  is Down   \n",
       "1   Host lbjavscan1.lbj.is.smartgurucool.com  is Down   \n",
       "2   Host uscal-pixoslic1.lbj.is.smartgurucool.com ...   \n",
       "3    Host lbjvprox1.lbj.is.smartgurucool.com  is Down   \n",
       "4      Host us-lbj-dc02.ad.smartgurucool.com  is Down   \n",
       "5      Host us-lbj-dc01.ad.smartgurucool.com  is Down   \n",
       "6   Host setoolslbj.lbj.is.smartgurucool.com  is Down   \n",
       "7    Host pixoslic1.lbj.is.smartgurucool.com  is Down   \n",
       "8    Host pixoslic1.lbj.is.smartgurucool.com  is Down   \n",
       "9   Host wlbjcmdp01.lbj.is.smartgurucool.com  is Down   \n",
       "10  On wcoscmp1.cos.is.smartgurucool.com , CPU Uti...   \n",
       "11  On wcoscmp1.cos.is.smartgurucool.com , CPU Uti...   \n",
       "12  For node wpngscfs02.png.is.smartgurucool.com, ...   \n",
       "13  For node wpngscfs02.png.is.smartgurucool.com, ...   \n",
       "14  On wcoscmp1.cos.is.smartgurucool.com , CPU Uti...   \n",
       "15  wcoscmd1.cos.is.smartgurucool.com E:\\ Label:Da...   \n",
       "16  For node csbldvm3u.srs.is.smartgurucool.com, M...   \n",
       "17  For node wcossap2.cos.is.smartgurucool.com, Me...   \n",
       "18  atspmigrate03.cos.is.smartgurucool.com E:\\ Lab...   \n",
       "19  On wsrspmc1.srs.is.smartgurucool.com , CPU Uti...   \n",
       "\n",
       "                                         Action Taken  Action Taken Encoded  \n",
       "0   Check if there's any planned outage going on, ...                     4  \n",
       "1   Check if there's any planned outage going on, ...                     4  \n",
       "2   Check if there's any planned outage going on, ...                     4  \n",
       "3   Check if there's any planned outage going on, ...                     4  \n",
       "4   Check if there's any planned outage going on, ...                     4  \n",
       "5   Check if there's any planned outage going on, ...                     4  \n",
       "6   Check if there's any planned outage going on, ...                     4  \n",
       "7   Check if there's any planned outage going on, ...                     4  \n",
       "8   Check if there's any planned outage going on, ...                     4  \n",
       "9   Check if there's any planned outage going on, ...                     4  \n",
       "10  Raise a Change Request (in case of CR required...                    14  \n",
       "11  Raise a Change Request (in case of CR required...                    14  \n",
       "12  This alert got triggered mistakenly. No memory...                    15  \n",
       "13  This alert got triggered mistakenly. No memory...                    15  \n",
       "14          Add 4 additional CPU cores to the server.                     1  \n",
       "15  Inform the user to do the necessary housekeepi...                     7  \n",
       "16  This alert got triggered mistakenly. No memory...                    15  \n",
       "17  This alert got triggered mistakenly. No memory...                    15  \n",
       "18  Inform the user to do the necessary housekeepi...                     7  \n",
       "19  Raise a Change Request (in case of CR required...                    14  "
      ]
     },
     "execution_count": 23,
     "metadata": {},
     "output_type": "execute_result"
    }
   ],
   "source": [
    "data = pd.read_csv('/content/drive/MyDrive/dataset/dataset_LabelEncoder.csv')\n",
    "data.head(20)"
   ]
  },
  {
   "cell_type": "code",
   "execution_count": 24,
   "metadata": {
    "id": "2TdSLQLK_uLR"
   },
   "outputs": [],
   "source": [
    "X = data['Short Description']\n",
    "y = data['Action Taken Encoded']"
   ]
  },
  {
   "cell_type": "code",
   "execution_count": 25,
   "metadata": {
    "id": "KWXWX36N_uN2"
   },
   "outputs": [],
   "source": [
    "# Split data into training and testing sets\n",
    "X_train, X_test, y_train, y_test = train_test_split(X, y, test_size=0.2, random_state=42)\n"
   ]
  },
  {
   "cell_type": "code",
   "execution_count": 26,
   "metadata": {
    "id": "GyKn3UFX_uQN"
   },
   "outputs": [],
   "source": [
    "# Tokenize the text data\n",
    "tokenizer = Tokenizer()\n",
    "tokenizer.fit_on_texts(X_train)"
   ]
  },
  {
   "cell_type": "code",
   "execution_count": 27,
   "metadata": {
    "id": "0hH0wVM5_uSj"
   },
   "outputs": [],
   "source": [
    "# Convert text data to sequences of integers\n",
    "X_train_seq = tokenizer.texts_to_sequences(X_train)\n",
    "X_test_seq = tokenizer.texts_to_sequences(X_test)"
   ]
  },
  {
   "cell_type": "code",
   "execution_count": 28,
   "metadata": {
    "id": "2LDFYQq4_uU4"
   },
   "outputs": [],
   "source": [
    "# Pad sequences to have the same length\n",
    "max_sequence_length = max([len(seq) for seq in X_train_seq])\n",
    "X_train_padded = pad_sequences(X_train_seq, maxlen=max_sequence_length)\n",
    "X_test_padded = pad_sequences(X_test_seq, maxlen=max_sequence_length)"
   ]
  },
  {
   "cell_type": "code",
   "execution_count": 29,
   "metadata": {
    "id": "ePTvSMKM_uXg"
   },
   "outputs": [],
   "source": [
    "# Define the number of classes (output units)\n",
    "num_classes = len(np.unique(y))"
   ]
  },
  {
   "cell_type": "code",
   "execution_count": 30,
   "metadata": {
    "id": "F3WB1MjO_uZl"
   },
   "outputs": [],
   "source": [
    "# Build the RNN model\n",
    "model = Sequential()\n",
    "model.add(Embedding(input_dim=len(tokenizer.word_index) + 1, output_dim=100, input_length=max_sequence_length))\n",
    "model.add(SimpleRNN(100))\n",
    "model.add(Dense(num_classes, activation='softmax'))"
   ]
  },
  {
   "cell_type": "code",
   "execution_count": 31,
   "metadata": {
    "id": "9y8Im-I7_ucM"
   },
   "outputs": [],
   "source": [
    "# Compile the model\n",
    "model.compile(loss='sparse_categorical_crossentropy', optimizer='adam', metrics=['accuracy'])\n"
   ]
  },
  {
   "cell_type": "code",
   "execution_count": 32,
   "metadata": {
    "colab": {
     "base_uri": "https://localhost:8080/"
    },
    "id": "vHahy-x__ueg",
    "outputId": "a9041bcc-34df-43ca-979f-ec5450aae963"
   },
   "outputs": [
    {
     "name": "stdout",
     "output_type": "stream",
     "text": [
      "Epoch 1/5\n",
      "2500/2500 [==============================] - 44s 17ms/step - loss: 0.0303 - accuracy: 0.9933 - val_loss: 0.0011 - val_accuracy: 0.9997\n",
      "Epoch 2/5\n",
      "2500/2500 [==============================] - 41s 16ms/step - loss: 0.0011 - accuracy: 0.9997 - val_loss: 3.2363e-04 - val_accuracy: 0.9999\n",
      "Epoch 3/5\n",
      "2500/2500 [==============================] - 39s 16ms/step - loss: 1.0431e-04 - accuracy: 1.0000 - val_loss: 1.6322e-05 - val_accuracy: 1.0000\n",
      "Epoch 4/5\n",
      "2500/2500 [==============================] - 41s 16ms/step - loss: 8.1530e-06 - accuracy: 1.0000 - val_loss: 5.6727e-06 - val_accuracy: 1.0000\n",
      "Epoch 5/5\n",
      "2500/2500 [==============================] - 41s 16ms/step - loss: 2.7341e-06 - accuracy: 1.0000 - val_loss: 1.8093e-06 - val_accuracy: 1.0000\n"
     ]
    },
    {
     "data": {
      "text/plain": [
       "<keras.callbacks.History at 0x7cb4d8851060>"
      ]
     },
     "execution_count": 32,
     "metadata": {},
     "output_type": "execute_result"
    }
   ],
   "source": [
    "# Train the model\n",
    "model.fit(X_train_padded, y_train, validation_data=(X_test_padded, y_test), epochs=5, batch_size=64)"
   ]
  },
  {
   "cell_type": "code",
   "execution_count": 34,
   "metadata": {
    "colab": {
     "base_uri": "https://localhost:8080/"
    },
    "id": "q1kv1Ktt_ug4",
    "outputId": "08796915-c462-452d-b46e-23c8f27b4ef6"
   },
   "outputs": [
    {
     "name": "stdout",
     "output_type": "stream",
     "text": [
      "Test Loss: 0.0%\n",
      "Test Accuracy: 100.0%\n"
     ]
    }
   ],
   "source": [
    "# Evaluate the model on the test data\n",
    "loss, accuracy = model.evaluate(X_test_padded, y_test, verbose=0)\n",
    "\n",
    "print(f\"Test Loss: {round(loss,2)*100}%\")\n",
    "print(f\"Test Accuracy: {round(accuracy,2)*100}%\")\n"
   ]
  },
  {
   "cell_type": "code",
   "execution_count": null,
   "metadata": {
    "id": "epRnqB3h_uje"
   },
   "outputs": [],
   "source": []
  }
 ],
 "metadata": {
  "colab": {
   "provenance": []
  },
  "kernelspec": {
   "display_name": "Python 3 (ipykernel)",
   "language": "python",
   "name": "python3"
  },
  "language_info": {
   "codemirror_mode": {
    "name": "ipython",
    "version": 3
   },
   "file_extension": ".py",
   "mimetype": "text/x-python",
   "name": "python",
   "nbconvert_exporter": "python",
   "pygments_lexer": "ipython3",
   "version": "3.9.12"
  }
 },
 "nbformat": 4,
 "nbformat_minor": 1
}
